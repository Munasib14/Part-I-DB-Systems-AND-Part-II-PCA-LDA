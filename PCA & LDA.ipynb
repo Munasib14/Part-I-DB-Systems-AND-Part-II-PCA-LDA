{
 "cells": [
  {
   "cell_type": "code",
   "execution_count": 79,
   "id": "8b6de11a",
   "metadata": {
    "ExecuteTime": {
     "end_time": "2022-12-04T12:20:34.438525Z",
     "start_time": "2022-12-04T12:20:34.401619Z"
    }
   },
   "outputs": [],
   "source": [
    "# suppress display of warnings\n",
    "import warnings\n",
    "warnings.filterwarnings(\"ignore\", category=DeprecationWarning)\n",
    "warnings.filterwarnings(\"ignore\", category=FutureWarning)\n",
    "\n",
    "# 'Pandas' is used for data manipulation and analysis\n",
    "import pandas as pd \n",
    "\n",
    "# 'Numpy' is used for mathematical operations on large, multi-dimensional arrays and matrices\n",
    "import numpy as np\n",
    "\n",
    "# 'Matplotlib' is a data visualization library for 2D and 3D plots, built on numpy\n",
    "import matplotlib.pyplot as plt\n",
    "\n",
    "# import seaborn library for an advance visualization\n",
    "import seaborn as sns\n",
    "\n",
    "# train test split\n",
    "from sklearn.model_selection import train_test_split\n",
    "\n",
    "# 'StandardScalar' from sklearn.preprocessing library is used to scale the data\n",
    "from sklearn.preprocessing import StandardScaler\n",
    "\n",
    "# 'eig' from numpy.linalg to calculate eigenvalues and eigenvectors\n",
    "from numpy.linalg import eig\n",
    "\n",
    "# 'PCA' function to perform principal component analysis using the sklearn library\n",
    "from sklearn.decomposition import PCA\n",
    "\n",
    "# 'LDA' function to perform linear discriminant analysis using the sklearn library\n",
    "from sklearn.discriminant_analysis import LinearDiscriminantAnalysis as LDA\n",
    "\n",
    "# import decision tree classifier and random forest classifier from sklearn\n",
    "from sklearn.tree import DecisionTreeClassifier\n",
    "from sklearn.metrics import accuracy_score, roc_auc_score\n",
    "from sklearn.ensemble import RandomForestClassifier"
   ]
  },
  {
   "cell_type": "code",
   "execution_count": 80,
   "id": "117fcbf3",
   "metadata": {
    "ExecuteTime": {
     "end_time": "2022-12-04T12:20:35.328366Z",
     "start_time": "2022-12-04T12:20:35.218993Z"
    }
   },
   "outputs": [
    {
     "data": {
      "text/html": [
       "<div>\n",
       "<style scoped>\n",
       "    .dataframe tbody tr th:only-of-type {\n",
       "        vertical-align: middle;\n",
       "    }\n",
       "\n",
       "    .dataframe tbody tr th {\n",
       "        vertical-align: top;\n",
       "    }\n",
       "\n",
       "    .dataframe thead th {\n",
       "        text-align: right;\n",
       "    }\n",
       "</style>\n",
       "<table border=\"1\" class=\"dataframe\">\n",
       "  <thead>\n",
       "    <tr style=\"text-align: right;\">\n",
       "      <th></th>\n",
       "      <th>ORDERNUMBER</th>\n",
       "      <th>QUANTITYORDERED</th>\n",
       "      <th>PRICEEACH</th>\n",
       "      <th>ORDERLINENUMBER</th>\n",
       "      <th>SALES</th>\n",
       "      <th>ORDERDATE</th>\n",
       "      <th>STATUS</th>\n",
       "      <th>QTR_ID</th>\n",
       "      <th>MONTH_ID</th>\n",
       "      <th>YEAR_ID</th>\n",
       "      <th>...</th>\n",
       "      <th>ADDRESSLINE1</th>\n",
       "      <th>ADDRESSLINE2</th>\n",
       "      <th>CITY</th>\n",
       "      <th>STATE</th>\n",
       "      <th>POSTALCODE</th>\n",
       "      <th>COUNTRY</th>\n",
       "      <th>TERRITORY</th>\n",
       "      <th>CONTACTLASTNAME</th>\n",
       "      <th>CONTACTFIRSTNAME</th>\n",
       "      <th>DEALSIZE</th>\n",
       "    </tr>\n",
       "  </thead>\n",
       "  <tbody>\n",
       "    <tr>\n",
       "      <th>0</th>\n",
       "      <td>10107</td>\n",
       "      <td>30</td>\n",
       "      <td>95.70</td>\n",
       "      <td>2</td>\n",
       "      <td>2871.00</td>\n",
       "      <td>2/24/2003 0:00</td>\n",
       "      <td>Shipped</td>\n",
       "      <td>1</td>\n",
       "      <td>2</td>\n",
       "      <td>2003</td>\n",
       "      <td>...</td>\n",
       "      <td>897 Long Airport Avenue</td>\n",
       "      <td>NaN</td>\n",
       "      <td>NYC</td>\n",
       "      <td>NY</td>\n",
       "      <td>10022</td>\n",
       "      <td>USA</td>\n",
       "      <td>NaN</td>\n",
       "      <td>Yu</td>\n",
       "      <td>Kwai</td>\n",
       "      <td>Small</td>\n",
       "    </tr>\n",
       "    <tr>\n",
       "      <th>1</th>\n",
       "      <td>10121</td>\n",
       "      <td>34</td>\n",
       "      <td>81.35</td>\n",
       "      <td>5</td>\n",
       "      <td>2765.90</td>\n",
       "      <td>5/7/2003 0:00</td>\n",
       "      <td>Shipped</td>\n",
       "      <td>2</td>\n",
       "      <td>5</td>\n",
       "      <td>2003</td>\n",
       "      <td>...</td>\n",
       "      <td>59 rue de l'Abbaye</td>\n",
       "      <td>NaN</td>\n",
       "      <td>Reims</td>\n",
       "      <td>NaN</td>\n",
       "      <td>51100</td>\n",
       "      <td>France</td>\n",
       "      <td>EMEA</td>\n",
       "      <td>Henriot</td>\n",
       "      <td>Paul</td>\n",
       "      <td>Small</td>\n",
       "    </tr>\n",
       "    <tr>\n",
       "      <th>2</th>\n",
       "      <td>10134</td>\n",
       "      <td>41</td>\n",
       "      <td>94.74</td>\n",
       "      <td>2</td>\n",
       "      <td>3884.34</td>\n",
       "      <td>7/1/2003 0:00</td>\n",
       "      <td>Shipped</td>\n",
       "      <td>3</td>\n",
       "      <td>7</td>\n",
       "      <td>2003</td>\n",
       "      <td>...</td>\n",
       "      <td>27 rue du Colonel Pierre Avia</td>\n",
       "      <td>NaN</td>\n",
       "      <td>Paris</td>\n",
       "      <td>NaN</td>\n",
       "      <td>75508</td>\n",
       "      <td>France</td>\n",
       "      <td>EMEA</td>\n",
       "      <td>Da Cunha</td>\n",
       "      <td>Daniel</td>\n",
       "      <td>Medium</td>\n",
       "    </tr>\n",
       "    <tr>\n",
       "      <th>3</th>\n",
       "      <td>10145</td>\n",
       "      <td>45</td>\n",
       "      <td>83.26</td>\n",
       "      <td>6</td>\n",
       "      <td>3746.70</td>\n",
       "      <td>8/25/2003 0:00</td>\n",
       "      <td>Shipped</td>\n",
       "      <td>3</td>\n",
       "      <td>8</td>\n",
       "      <td>2003</td>\n",
       "      <td>...</td>\n",
       "      <td>78934 Hillside Dr.</td>\n",
       "      <td>NaN</td>\n",
       "      <td>Pasadena</td>\n",
       "      <td>CA</td>\n",
       "      <td>90003</td>\n",
       "      <td>USA</td>\n",
       "      <td>NaN</td>\n",
       "      <td>Young</td>\n",
       "      <td>Julie</td>\n",
       "      <td>Medium</td>\n",
       "    </tr>\n",
       "    <tr>\n",
       "      <th>4</th>\n",
       "      <td>10159</td>\n",
       "      <td>49</td>\n",
       "      <td>100.00</td>\n",
       "      <td>14</td>\n",
       "      <td>5205.27</td>\n",
       "      <td>10/10/2003 0:00</td>\n",
       "      <td>Shipped</td>\n",
       "      <td>4</td>\n",
       "      <td>10</td>\n",
       "      <td>2003</td>\n",
       "      <td>...</td>\n",
       "      <td>7734 Strong St.</td>\n",
       "      <td>NaN</td>\n",
       "      <td>San Francisco</td>\n",
       "      <td>CA</td>\n",
       "      <td>NaN</td>\n",
       "      <td>USA</td>\n",
       "      <td>NaN</td>\n",
       "      <td>Brown</td>\n",
       "      <td>Julie</td>\n",
       "      <td>Medium</td>\n",
       "    </tr>\n",
       "  </tbody>\n",
       "</table>\n",
       "<p>5 rows × 25 columns</p>\n",
       "</div>"
      ],
      "text/plain": [
       "   ORDERNUMBER  QUANTITYORDERED  PRICEEACH  ORDERLINENUMBER    SALES  \\\n",
       "0        10107               30      95.70                2  2871.00   \n",
       "1        10121               34      81.35                5  2765.90   \n",
       "2        10134               41      94.74                2  3884.34   \n",
       "3        10145               45      83.26                6  3746.70   \n",
       "4        10159               49     100.00               14  5205.27   \n",
       "\n",
       "         ORDERDATE   STATUS  QTR_ID  MONTH_ID  YEAR_ID  ...  \\\n",
       "0   2/24/2003 0:00  Shipped       1         2     2003  ...   \n",
       "1    5/7/2003 0:00  Shipped       2         5     2003  ...   \n",
       "2    7/1/2003 0:00  Shipped       3         7     2003  ...   \n",
       "3   8/25/2003 0:00  Shipped       3         8     2003  ...   \n",
       "4  10/10/2003 0:00  Shipped       4        10     2003  ...   \n",
       "\n",
       "                    ADDRESSLINE1  ADDRESSLINE2           CITY STATE  \\\n",
       "0        897 Long Airport Avenue           NaN            NYC    NY   \n",
       "1             59 rue de l'Abbaye           NaN          Reims   NaN   \n",
       "2  27 rue du Colonel Pierre Avia           NaN          Paris   NaN   \n",
       "3             78934 Hillside Dr.           NaN       Pasadena    CA   \n",
       "4                7734 Strong St.           NaN  San Francisco    CA   \n",
       "\n",
       "  POSTALCODE COUNTRY TERRITORY CONTACTLASTNAME CONTACTFIRSTNAME DEALSIZE  \n",
       "0      10022     USA       NaN              Yu             Kwai    Small  \n",
       "1      51100  France      EMEA         Henriot             Paul    Small  \n",
       "2      75508  France      EMEA        Da Cunha           Daniel   Medium  \n",
       "3      90003     USA       NaN           Young            Julie   Medium  \n",
       "4        NaN     USA       NaN           Brown            Julie   Medium  \n",
       "\n",
       "[5 rows x 25 columns]"
      ]
     },
     "execution_count": 80,
     "metadata": {},
     "output_type": "execute_result"
    }
   ],
   "source": [
    "# load the csv file\n",
    "df_sales = pd.read_csv('sales_data_sample.csv', encoding= 'unicode_escape')\n",
    "\n",
    "# display the first five observations\n",
    "df_sales.head()"
   ]
  },
  {
   "cell_type": "code",
   "execution_count": 81,
   "id": "0c4bb51d",
   "metadata": {
    "ExecuteTime": {
     "end_time": "2022-12-04T12:20:35.921951Z",
     "start_time": "2022-12-04T12:20:35.900530Z"
    }
   },
   "outputs": [
    {
     "data": {
      "text/plain": [
       "(2823, 25)"
      ]
     },
     "execution_count": 81,
     "metadata": {},
     "output_type": "execute_result"
    }
   ],
   "source": [
    "df_sales.shape"
   ]
  },
  {
   "cell_type": "code",
   "execution_count": 82,
   "id": "9b1a0526",
   "metadata": {
    "ExecuteTime": {
     "end_time": "2022-12-04T12:20:36.171280Z",
     "start_time": "2022-12-04T12:20:36.112445Z"
    }
   },
   "outputs": [
    {
     "name": "stdout",
     "output_type": "stream",
     "text": [
      "<class 'pandas.core.frame.DataFrame'>\n",
      "RangeIndex: 2823 entries, 0 to 2822\n",
      "Data columns (total 25 columns):\n",
      " #   Column            Non-Null Count  Dtype  \n",
      "---  ------            --------------  -----  \n",
      " 0   ORDERNUMBER       2823 non-null   int64  \n",
      " 1   QUANTITYORDERED   2823 non-null   int64  \n",
      " 2   PRICEEACH         2823 non-null   float64\n",
      " 3   ORDERLINENUMBER   2823 non-null   int64  \n",
      " 4   SALES             2823 non-null   float64\n",
      " 5   ORDERDATE         2823 non-null   object \n",
      " 6   STATUS            2823 non-null   object \n",
      " 7   QTR_ID            2823 non-null   int64  \n",
      " 8   MONTH_ID          2823 non-null   int64  \n",
      " 9   YEAR_ID           2823 non-null   int64  \n",
      " 10  PRODUCTLINE       2823 non-null   object \n",
      " 11  MSRP              2823 non-null   int64  \n",
      " 12  PRODUCTCODE       2823 non-null   object \n",
      " 13  CUSTOMERNAME      2823 non-null   object \n",
      " 14  PHONE             2823 non-null   object \n",
      " 15  ADDRESSLINE1      2823 non-null   object \n",
      " 16  ADDRESSLINE2      302 non-null    object \n",
      " 17  CITY              2823 non-null   object \n",
      " 18  STATE             1337 non-null   object \n",
      " 19  POSTALCODE        2747 non-null   object \n",
      " 20  COUNTRY           2823 non-null   object \n",
      " 21  TERRITORY         1749 non-null   object \n",
      " 22  CONTACTLASTNAME   2823 non-null   object \n",
      " 23  CONTACTFIRSTNAME  2823 non-null   object \n",
      " 24  DEALSIZE          2823 non-null   object \n",
      "dtypes: float64(2), int64(7), object(16)\n",
      "memory usage: 551.5+ KB\n"
     ]
    }
   ],
   "source": [
    "df_sales.info()"
   ]
  },
  {
   "cell_type": "code",
   "execution_count": 83,
   "id": "c1b9df1c",
   "metadata": {
    "ExecuteTime": {
     "end_time": "2022-12-04T12:20:36.811146Z",
     "start_time": "2022-12-04T12:20:36.772253Z"
    }
   },
   "outputs": [
    {
     "data": {
      "text/plain": [
       "ORDERNUMBER          0.000000\n",
       "QUANTITYORDERED      0.000000\n",
       "PRICEEACH            0.000000\n",
       "ORDERLINENUMBER      0.000000\n",
       "SALES                0.000000\n",
       "ORDERDATE            0.000000\n",
       "STATUS               0.000000\n",
       "QTR_ID               0.000000\n",
       "MONTH_ID             0.000000\n",
       "YEAR_ID              0.000000\n",
       "PRODUCTLINE          0.000000\n",
       "MSRP                 0.000000\n",
       "PRODUCTCODE          0.000000\n",
       "CUSTOMERNAME         0.000000\n",
       "PHONE                0.000000\n",
       "ADDRESSLINE1         0.000000\n",
       "ADDRESSLINE2        89.302161\n",
       "CITY                 0.000000\n",
       "STATE               52.639036\n",
       "POSTALCODE           2.692171\n",
       "COUNTRY              0.000000\n",
       "TERRITORY           38.044633\n",
       "CONTACTLASTNAME      0.000000\n",
       "CONTACTFIRSTNAME     0.000000\n",
       "DEALSIZE             0.000000\n",
       "dtype: float64"
      ]
     },
     "execution_count": 83,
     "metadata": {},
     "output_type": "execute_result"
    }
   ],
   "source": [
    "percent_missing_value = df_sales. isnull(). sum() * 100 / len(df_sales)\n",
    "percent_missing_value"
   ]
  },
  {
   "cell_type": "code",
   "execution_count": 84,
   "id": "82ad6fc2",
   "metadata": {
    "ExecuteTime": {
     "end_time": "2022-12-04T12:20:37.029474Z",
     "start_time": "2022-12-04T12:20:36.989828Z"
    }
   },
   "outputs": [
    {
     "name": "stdout",
     "output_type": "stream",
     "text": [
      "Empty DataFrame\n",
      "Columns: [ORDERNUMBER, QUANTITYORDERED, PRICEEACH, ORDERLINENUMBER, SALES, ORDERDATE, STATUS, QTR_ID, MONTH_ID, YEAR_ID, PRODUCTLINE, MSRP, PRODUCTCODE, CUSTOMERNAME, PHONE, ADDRESSLINE1, ADDRESSLINE2, CITY, STATE, POSTALCODE, COUNTRY, TERRITORY, CONTACTLASTNAME, CONTACTFIRSTNAME, DEALSIZE]\n",
      "Index: []\n",
      "\n",
      "[0 rows x 25 columns]\n"
     ]
    }
   ],
   "source": [
    "duplicate = df_sales[df_sales.duplicated()]\n",
    "  \n",
    "# Print the resultant Dataframe\n",
    "print(duplicate)"
   ]
  },
  {
   "cell_type": "code",
   "execution_count": 85,
   "id": "1772f0a7",
   "metadata": {
    "ExecuteTime": {
     "end_time": "2022-12-04T12:20:37.526672Z",
     "start_time": "2022-12-04T12:20:37.504732Z"
    }
   },
   "outputs": [],
   "source": [
    "df_sales['POSTALCODE'] = df_sales['POSTALCODE'].str.replace(r'\\D', '')\n",
    "df_sales['POSTALCODE'] = df_sales['POSTALCODE'].astype('float64')\n",
    "df_sales['POSTALCODE'] = df_sales['POSTALCODE'].fillna(df_sales['POSTALCODE'].mode()[0])"
   ]
  },
  {
   "cell_type": "code",
   "execution_count": 86,
   "id": "4af7e068",
   "metadata": {
    "ExecuteTime": {
     "end_time": "2022-12-04T12:20:37.759559Z",
     "start_time": "2022-12-04T12:20:37.735522Z"
    }
   },
   "outputs": [
    {
     "data": {
      "text/plain": [
       "Euro Shopping Channel           259\n",
       "Mini Gifts Distributors Ltd.    180\n",
       "Australian Collectors, Co.       55\n",
       "La Rochelle Gifts                53\n",
       "AV Stores, Co.                   51\n",
       "                               ... \n",
       "Microscale Inc.                  10\n",
       "Royale Belge                      8\n",
       "Auto-Moto Classics Inc.           8\n",
       "Atelier graphique                 7\n",
       "Boards & Toys Co.                 3\n",
       "Name: CUSTOMERNAME, Length: 92, dtype: int64"
      ]
     },
     "execution_count": 86,
     "metadata": {},
     "output_type": "execute_result"
    }
   ],
   "source": [
    "df_sales['CUSTOMERNAME'].value_counts()"
   ]
  },
  {
   "cell_type": "code",
   "execution_count": 87,
   "id": "9e32a8c2",
   "metadata": {
    "ExecuteTime": {
     "end_time": "2022-12-04T12:20:38.365825Z",
     "start_time": "2022-12-04T12:20:38.335906Z"
    }
   },
   "outputs": [],
   "source": [
    "df_sales['STATE'] = df_sales['STATE'].fillna(df_sales['STATE'].mode()[0])"
   ]
  },
  {
   "cell_type": "code",
   "execution_count": 88,
   "id": "348d4156",
   "metadata": {
    "ExecuteTime": {
     "end_time": "2022-12-04T12:20:38.564907Z",
     "start_time": "2022-12-04T12:20:38.551945Z"
    }
   },
   "outputs": [
    {
     "data": {
      "text/plain": [
       "array([nan, 'EMEA', 'APAC', 'Japan'], dtype=object)"
      ]
     },
     "execution_count": 88,
     "metadata": {},
     "output_type": "execute_result"
    }
   ],
   "source": [
    "df_sales['TERRITORY'].unique()"
   ]
  },
  {
   "cell_type": "code",
   "execution_count": 89,
   "id": "5e27b4bb",
   "metadata": {
    "ExecuteTime": {
     "end_time": "2022-12-04T12:20:38.830265Z",
     "start_time": "2022-12-04T12:20:38.803726Z"
    }
   },
   "outputs": [
    {
     "data": {
      "text/plain": [
       "EMEA     1407\n",
       "APAC      221\n",
       "Japan     121\n",
       "Name: TERRITORY, dtype: int64"
      ]
     },
     "execution_count": 89,
     "metadata": {},
     "output_type": "execute_result"
    }
   ],
   "source": [
    "df_sales['TERRITORY'].value_counts()"
   ]
  },
  {
   "cell_type": "code",
   "execution_count": 90,
   "id": "f9c40c96",
   "metadata": {
    "ExecuteTime": {
     "end_time": "2022-12-04T12:20:39.016510Z",
     "start_time": "2022-12-04T12:20:38.993053Z"
    }
   },
   "outputs": [],
   "source": [
    "df_sales['TERRITORY'] = df_sales['TERRITORY'].fillna(df_sales['TERRITORY'].mode()[0])"
   ]
  },
  {
   "cell_type": "code",
   "execution_count": 91,
   "id": "4f7d2aa9",
   "metadata": {
    "ExecuteTime": {
     "end_time": "2022-12-04T12:20:39.219727Z",
     "start_time": "2022-12-04T12:20:39.199718Z"
    }
   },
   "outputs": [
    {
     "data": {
      "text/plain": [
       "EMEA     2481\n",
       "APAC      221\n",
       "Japan     121\n",
       "Name: TERRITORY, dtype: int64"
      ]
     },
     "execution_count": 91,
     "metadata": {},
     "output_type": "execute_result"
    }
   ],
   "source": [
    "df_sales['TERRITORY'].value_counts()"
   ]
  },
  {
   "cell_type": "code",
   "execution_count": 92,
   "id": "f084f3a3",
   "metadata": {
    "ExecuteTime": {
     "end_time": "2022-12-04T12:20:39.453579Z",
     "start_time": "2022-12-04T12:20:39.431548Z"
    }
   },
   "outputs": [],
   "source": [
    "df_sales['TERRITORY']=df_sales['TERRITORY'].replace({'EMEA':int(1),'APAC':int(2),'Japan':int(3)})"
   ]
  },
  {
   "cell_type": "code",
   "execution_count": 93,
   "id": "1e9d41c2",
   "metadata": {
    "ExecuteTime": {
     "end_time": "2022-12-04T12:20:39.657007Z",
     "start_time": "2022-12-04T12:20:39.639042Z"
    }
   },
   "outputs": [
    {
     "data": {
      "text/plain": [
       "Medium    1384\n",
       "Small     1282\n",
       "Large      157\n",
       "Name: DEALSIZE, dtype: int64"
      ]
     },
     "execution_count": 93,
     "metadata": {},
     "output_type": "execute_result"
    }
   ],
   "source": [
    "df_sales['DEALSIZE'].value_counts()"
   ]
  },
  {
   "cell_type": "code",
   "execution_count": 94,
   "id": "616dc6c0",
   "metadata": {
    "ExecuteTime": {
     "end_time": "2022-12-04T12:20:39.826102Z",
     "start_time": "2022-12-04T12:20:39.809633Z"
    }
   },
   "outputs": [],
   "source": [
    "df_sales['DEALSIZE']=df_sales['DEALSIZE'].replace({'Large':int(1),'Medium':int(2),'Small':int(3)})"
   ]
  },
  {
   "cell_type": "code",
   "execution_count": 95,
   "id": "368e50e7",
   "metadata": {
    "ExecuteTime": {
     "end_time": "2022-12-04T12:20:40.078510Z",
     "start_time": "2022-12-04T12:20:40.030210Z"
    }
   },
   "outputs": [
    {
     "data": {
      "text/plain": [
       "Euro Shopping Channel           259\n",
       "Mini Gifts Distributors Ltd.    180\n",
       "Australian Collectors, Co.       55\n",
       "La Rochelle Gifts                53\n",
       "AV Stores, Co.                   51\n",
       "                               ... \n",
       "Microscale Inc.                  10\n",
       "Royale Belge                      8\n",
       "Auto-Moto Classics Inc.           8\n",
       "Atelier graphique                 7\n",
       "Boards & Toys Co.                 3\n",
       "Name: CUSTOMERNAME, Length: 92, dtype: int64"
      ]
     },
     "execution_count": 95,
     "metadata": {},
     "output_type": "execute_result"
    }
   ],
   "source": [
    "df_sales['CUSTOMERNAME'].value_counts()"
   ]
  },
  {
   "cell_type": "code",
   "execution_count": 96,
   "id": "f5b59710",
   "metadata": {
    "ExecuteTime": {
     "end_time": "2022-12-04T12:20:40.298161Z",
     "start_time": "2022-12-04T12:20:40.254271Z"
    }
   },
   "outputs": [
    {
     "data": {
      "text/html": [
       "<div>\n",
       "<style scoped>\n",
       "    .dataframe tbody tr th:only-of-type {\n",
       "        vertical-align: middle;\n",
       "    }\n",
       "\n",
       "    .dataframe tbody tr th {\n",
       "        vertical-align: top;\n",
       "    }\n",
       "\n",
       "    .dataframe thead th {\n",
       "        text-align: right;\n",
       "    }\n",
       "</style>\n",
       "<table border=\"1\" class=\"dataframe\">\n",
       "  <thead>\n",
       "    <tr style=\"text-align: right;\">\n",
       "      <th></th>\n",
       "      <th>QUANTITYORDERED</th>\n",
       "      <th>PRICEEACH</th>\n",
       "      <th>ORDERLINENUMBER</th>\n",
       "      <th>SALES</th>\n",
       "      <th>STATUS</th>\n",
       "      <th>QTR_ID</th>\n",
       "      <th>MONTH_ID</th>\n",
       "      <th>YEAR_ID</th>\n",
       "      <th>PRODUCTLINE</th>\n",
       "      <th>MSRP</th>\n",
       "      <th>CUSTOMERNAME</th>\n",
       "      <th>CITY</th>\n",
       "      <th>POSTALCODE</th>\n",
       "      <th>COUNTRY</th>\n",
       "      <th>TERRITORY</th>\n",
       "      <th>DEALSIZE</th>\n",
       "    </tr>\n",
       "  </thead>\n",
       "  <tbody>\n",
       "    <tr>\n",
       "      <th>0</th>\n",
       "      <td>30</td>\n",
       "      <td>95.70</td>\n",
       "      <td>2</td>\n",
       "      <td>2871.00</td>\n",
       "      <td>Shipped</td>\n",
       "      <td>1</td>\n",
       "      <td>2</td>\n",
       "      <td>2003</td>\n",
       "      <td>Motorcycles</td>\n",
       "      <td>95</td>\n",
       "      <td>Land of Toys Inc.</td>\n",
       "      <td>NYC</td>\n",
       "      <td>10022.0</td>\n",
       "      <td>USA</td>\n",
       "      <td>1</td>\n",
       "      <td>3</td>\n",
       "    </tr>\n",
       "    <tr>\n",
       "      <th>1</th>\n",
       "      <td>34</td>\n",
       "      <td>81.35</td>\n",
       "      <td>5</td>\n",
       "      <td>2765.90</td>\n",
       "      <td>Shipped</td>\n",
       "      <td>2</td>\n",
       "      <td>5</td>\n",
       "      <td>2003</td>\n",
       "      <td>Motorcycles</td>\n",
       "      <td>95</td>\n",
       "      <td>Reims Collectables</td>\n",
       "      <td>Reims</td>\n",
       "      <td>51100.0</td>\n",
       "      <td>France</td>\n",
       "      <td>1</td>\n",
       "      <td>3</td>\n",
       "    </tr>\n",
       "    <tr>\n",
       "      <th>2</th>\n",
       "      <td>41</td>\n",
       "      <td>94.74</td>\n",
       "      <td>2</td>\n",
       "      <td>3884.34</td>\n",
       "      <td>Shipped</td>\n",
       "      <td>3</td>\n",
       "      <td>7</td>\n",
       "      <td>2003</td>\n",
       "      <td>Motorcycles</td>\n",
       "      <td>95</td>\n",
       "      <td>Lyon Souveniers</td>\n",
       "      <td>Paris</td>\n",
       "      <td>75508.0</td>\n",
       "      <td>France</td>\n",
       "      <td>1</td>\n",
       "      <td>2</td>\n",
       "    </tr>\n",
       "    <tr>\n",
       "      <th>3</th>\n",
       "      <td>45</td>\n",
       "      <td>83.26</td>\n",
       "      <td>6</td>\n",
       "      <td>3746.70</td>\n",
       "      <td>Shipped</td>\n",
       "      <td>3</td>\n",
       "      <td>8</td>\n",
       "      <td>2003</td>\n",
       "      <td>Motorcycles</td>\n",
       "      <td>95</td>\n",
       "      <td>Toys4GrownUps.com</td>\n",
       "      <td>Pasadena</td>\n",
       "      <td>90003.0</td>\n",
       "      <td>USA</td>\n",
       "      <td>1</td>\n",
       "      <td>2</td>\n",
       "    </tr>\n",
       "    <tr>\n",
       "      <th>4</th>\n",
       "      <td>49</td>\n",
       "      <td>100.00</td>\n",
       "      <td>14</td>\n",
       "      <td>5205.27</td>\n",
       "      <td>Shipped</td>\n",
       "      <td>4</td>\n",
       "      <td>10</td>\n",
       "      <td>2003</td>\n",
       "      <td>Motorcycles</td>\n",
       "      <td>95</td>\n",
       "      <td>Corporate Gift Ideas Co.</td>\n",
       "      <td>San Francisco</td>\n",
       "      <td>28034.0</td>\n",
       "      <td>USA</td>\n",
       "      <td>1</td>\n",
       "      <td>2</td>\n",
       "    </tr>\n",
       "  </tbody>\n",
       "</table>\n",
       "</div>"
      ],
      "text/plain": [
       "   QUANTITYORDERED  PRICEEACH  ORDERLINENUMBER    SALES   STATUS  QTR_ID  \\\n",
       "0               30      95.70                2  2871.00  Shipped       1   \n",
       "1               34      81.35                5  2765.90  Shipped       2   \n",
       "2               41      94.74                2  3884.34  Shipped       3   \n",
       "3               45      83.26                6  3746.70  Shipped       3   \n",
       "4               49     100.00               14  5205.27  Shipped       4   \n",
       "\n",
       "   MONTH_ID  YEAR_ID  PRODUCTLINE  MSRP              CUSTOMERNAME  \\\n",
       "0         2     2003  Motorcycles    95         Land of Toys Inc.   \n",
       "1         5     2003  Motorcycles    95        Reims Collectables   \n",
       "2         7     2003  Motorcycles    95           Lyon Souveniers   \n",
       "3         8     2003  Motorcycles    95         Toys4GrownUps.com   \n",
       "4        10     2003  Motorcycles    95  Corporate Gift Ideas Co.   \n",
       "\n",
       "            CITY  POSTALCODE COUNTRY  TERRITORY  DEALSIZE  \n",
       "0            NYC     10022.0     USA          1         3  \n",
       "1          Reims     51100.0  France          1         3  \n",
       "2          Paris     75508.0  France          1         2  \n",
       "3       Pasadena     90003.0     USA          1         2  \n",
       "4  San Francisco     28034.0     USA          1         2  "
      ]
     },
     "execution_count": 96,
     "metadata": {},
     "output_type": "execute_result"
    }
   ],
   "source": [
    "df_sales = df_sales.drop(['ORDERNUMBER','ORDERDATE','PHONE','ADDRESSLINE1', 'ADDRESSLINE2','CONTACTLASTNAME', 'CONTACTFIRSTNAME','PRODUCTCODE','STATE'], axis=1)\n",
    "df_sales.head()"
   ]
  },
  {
   "cell_type": "code",
   "execution_count": 97,
   "id": "e5921a7f",
   "metadata": {
    "ExecuteTime": {
     "end_time": "2022-12-04T12:20:40.467662Z",
     "start_time": "2022-12-04T12:20:40.454302Z"
    }
   },
   "outputs": [
    {
     "data": {
      "text/plain": [
       "array(['Shipped', 'Disputed', 'In Process', 'Cancelled', 'On Hold',\n",
       "       'Resolved'], dtype=object)"
      ]
     },
     "execution_count": 97,
     "metadata": {},
     "output_type": "execute_result"
    }
   ],
   "source": [
    "df_sales['STATUS'].unique()"
   ]
  },
  {
   "cell_type": "code",
   "execution_count": 98,
   "id": "fa1eb0d2",
   "metadata": {
    "ExecuteTime": {
     "end_time": "2022-12-04T12:20:40.671423Z",
     "start_time": "2022-12-04T12:20:40.649925Z"
    }
   },
   "outputs": [],
   "source": [
    "df_sales['STATUS'] = df_sales['STATUS'].replace({'Shipped':int(1),'Disputed':int(0),'In Process':int(0),'Cancelled':int(0), 'On Hold':int(0), 'Resolved':int(0)})"
   ]
  },
  {
   "cell_type": "code",
   "execution_count": 99,
   "id": "867596a3",
   "metadata": {
    "ExecuteTime": {
     "end_time": "2022-12-04T12:20:40.919670Z",
     "start_time": "2022-12-04T12:20:40.863279Z"
    }
   },
   "outputs": [
    {
     "data": {
      "text/html": [
       "<div>\n",
       "<style scoped>\n",
       "    .dataframe tbody tr th:only-of-type {\n",
       "        vertical-align: middle;\n",
       "    }\n",
       "\n",
       "    .dataframe tbody tr th {\n",
       "        vertical-align: top;\n",
       "    }\n",
       "\n",
       "    .dataframe thead th {\n",
       "        text-align: right;\n",
       "    }\n",
       "</style>\n",
       "<table border=\"1\" class=\"dataframe\">\n",
       "  <thead>\n",
       "    <tr style=\"text-align: right;\">\n",
       "      <th></th>\n",
       "      <th>Total</th>\n",
       "      <th>Percentage of Missing Values</th>\n",
       "    </tr>\n",
       "  </thead>\n",
       "  <tbody>\n",
       "    <tr>\n",
       "      <th>QUANTITYORDERED</th>\n",
       "      <td>0</td>\n",
       "      <td>0.0</td>\n",
       "    </tr>\n",
       "    <tr>\n",
       "      <th>PRICEEACH</th>\n",
       "      <td>0</td>\n",
       "      <td>0.0</td>\n",
       "    </tr>\n",
       "    <tr>\n",
       "      <th>ORDERLINENUMBER</th>\n",
       "      <td>0</td>\n",
       "      <td>0.0</td>\n",
       "    </tr>\n",
       "    <tr>\n",
       "      <th>SALES</th>\n",
       "      <td>0</td>\n",
       "      <td>0.0</td>\n",
       "    </tr>\n",
       "    <tr>\n",
       "      <th>STATUS</th>\n",
       "      <td>0</td>\n",
       "      <td>0.0</td>\n",
       "    </tr>\n",
       "    <tr>\n",
       "      <th>QTR_ID</th>\n",
       "      <td>0</td>\n",
       "      <td>0.0</td>\n",
       "    </tr>\n",
       "    <tr>\n",
       "      <th>MONTH_ID</th>\n",
       "      <td>0</td>\n",
       "      <td>0.0</td>\n",
       "    </tr>\n",
       "    <tr>\n",
       "      <th>YEAR_ID</th>\n",
       "      <td>0</td>\n",
       "      <td>0.0</td>\n",
       "    </tr>\n",
       "    <tr>\n",
       "      <th>PRODUCTLINE</th>\n",
       "      <td>0</td>\n",
       "      <td>0.0</td>\n",
       "    </tr>\n",
       "    <tr>\n",
       "      <th>MSRP</th>\n",
       "      <td>0</td>\n",
       "      <td>0.0</td>\n",
       "    </tr>\n",
       "    <tr>\n",
       "      <th>CUSTOMERNAME</th>\n",
       "      <td>0</td>\n",
       "      <td>0.0</td>\n",
       "    </tr>\n",
       "    <tr>\n",
       "      <th>CITY</th>\n",
       "      <td>0</td>\n",
       "      <td>0.0</td>\n",
       "    </tr>\n",
       "    <tr>\n",
       "      <th>POSTALCODE</th>\n",
       "      <td>0</td>\n",
       "      <td>0.0</td>\n",
       "    </tr>\n",
       "    <tr>\n",
       "      <th>COUNTRY</th>\n",
       "      <td>0</td>\n",
       "      <td>0.0</td>\n",
       "    </tr>\n",
       "    <tr>\n",
       "      <th>TERRITORY</th>\n",
       "      <td>0</td>\n",
       "      <td>0.0</td>\n",
       "    </tr>\n",
       "    <tr>\n",
       "      <th>DEALSIZE</th>\n",
       "      <td>0</td>\n",
       "      <td>0.0</td>\n",
       "    </tr>\n",
       "  </tbody>\n",
       "</table>\n",
       "</div>"
      ],
      "text/plain": [
       "                 Total  Percentage of Missing Values\n",
       "QUANTITYORDERED      0                           0.0\n",
       "PRICEEACH            0                           0.0\n",
       "ORDERLINENUMBER      0                           0.0\n",
       "SALES                0                           0.0\n",
       "STATUS               0                           0.0\n",
       "QTR_ID               0                           0.0\n",
       "MONTH_ID             0                           0.0\n",
       "YEAR_ID              0                           0.0\n",
       "PRODUCTLINE          0                           0.0\n",
       "MSRP                 0                           0.0\n",
       "CUSTOMERNAME         0                           0.0\n",
       "CITY                 0                           0.0\n",
       "POSTALCODE           0                           0.0\n",
       "COUNTRY              0                           0.0\n",
       "TERRITORY            0                           0.0\n",
       "DEALSIZE             0                           0.0"
      ]
     },
     "execution_count": 99,
     "metadata": {},
     "output_type": "execute_result"
    }
   ],
   "source": [
    "Total = df_sales.isnull().sum().sort_values(ascending=False)        \n",
    "\n",
    "Percent = (df_sales.isnull().sum()*100/df_sales.isnull().count()).sort_values(ascending=False)  \n",
    "\n",
    "missing_data = pd.concat([Total, Percent], axis = 1, keys = ['Total', 'Percentage of Missing Values'])    \n",
    "missing_data"
   ]
  },
  {
   "cell_type": "code",
   "execution_count": 100,
   "id": "8cc3157d",
   "metadata": {
    "ExecuteTime": {
     "end_time": "2022-12-04T12:20:41.092079Z",
     "start_time": "2022-12-04T12:20:41.064636Z"
    }
   },
   "outputs": [
    {
     "data": {
      "text/plain": [
       "array([1, 0], dtype=int64)"
      ]
     },
     "execution_count": 100,
     "metadata": {},
     "output_type": "execute_result"
    }
   ],
   "source": [
    "df_sales['STATUS'].unique()"
   ]
  },
  {
   "cell_type": "markdown",
   "id": "dc6ea5cb",
   "metadata": {},
   "source": [
    "Interpretation: The above output shows that there are two unique classes in the target variable. Among these classes, class 1 is most frequent with 2617 records and the other class has 206 observations. Thus we can say that the target variable is balanced."
   ]
  },
  {
   "cell_type": "code",
   "execution_count": 101,
   "id": "cf94064d",
   "metadata": {
    "ExecuteTime": {
     "end_time": "2022-12-04T12:20:41.578764Z",
     "start_time": "2022-12-04T12:20:41.561756Z"
    }
   },
   "outputs": [],
   "source": [
    "y = df_sales['STATUS']"
   ]
  },
  {
   "cell_type": "code",
   "execution_count": 102,
   "id": "ff1c419a",
   "metadata": {
    "ExecuteTime": {
     "end_time": "2022-12-04T12:20:41.828417Z",
     "start_time": "2022-12-04T12:20:41.805891Z"
    }
   },
   "outputs": [],
   "source": [
    "df_sales = df_sales.drop(['STATUS', 'POSTALCODE'], axis=1)"
   ]
  },
  {
   "cell_type": "code",
   "execution_count": 103,
   "id": "0eda9ed9",
   "metadata": {
    "ExecuteTime": {
     "end_time": "2022-12-04T12:20:42.030992Z",
     "start_time": "2022-12-04T12:20:42.014365Z"
    }
   },
   "outputs": [
    {
     "data": {
      "text/plain": [
       "(2823, 14)"
      ]
     },
     "execution_count": 103,
     "metadata": {},
     "output_type": "execute_result"
    }
   ],
   "source": [
    "df_sales.shape"
   ]
  },
  {
   "cell_type": "code",
   "execution_count": 104,
   "id": "00d94488",
   "metadata": {
    "ExecuteTime": {
     "end_time": "2022-12-04T12:20:42.247211Z",
     "start_time": "2022-12-04T12:20:42.210276Z"
    }
   },
   "outputs": [
    {
     "data": {
      "text/html": [
       "<div>\n",
       "<style scoped>\n",
       "    .dataframe tbody tr th:only-of-type {\n",
       "        vertical-align: middle;\n",
       "    }\n",
       "\n",
       "    .dataframe tbody tr th {\n",
       "        vertical-align: top;\n",
       "    }\n",
       "\n",
       "    .dataframe thead th {\n",
       "        text-align: right;\n",
       "    }\n",
       "</style>\n",
       "<table border=\"1\" class=\"dataframe\">\n",
       "  <thead>\n",
       "    <tr style=\"text-align: right;\">\n",
       "      <th></th>\n",
       "      <th>QUANTITYORDERED</th>\n",
       "      <th>PRICEEACH</th>\n",
       "      <th>ORDERLINENUMBER</th>\n",
       "      <th>SALES</th>\n",
       "      <th>QTR_ID</th>\n",
       "      <th>MONTH_ID</th>\n",
       "      <th>YEAR_ID</th>\n",
       "      <th>PRODUCTLINE</th>\n",
       "      <th>MSRP</th>\n",
       "      <th>CUSTOMERNAME</th>\n",
       "      <th>CITY</th>\n",
       "      <th>COUNTRY</th>\n",
       "      <th>TERRITORY</th>\n",
       "      <th>DEALSIZE</th>\n",
       "    </tr>\n",
       "  </thead>\n",
       "  <tbody>\n",
       "    <tr>\n",
       "      <th>0</th>\n",
       "      <td>30</td>\n",
       "      <td>95.70</td>\n",
       "      <td>2</td>\n",
       "      <td>2871.00</td>\n",
       "      <td>1</td>\n",
       "      <td>2</td>\n",
       "      <td>2003</td>\n",
       "      <td>Motorcycles</td>\n",
       "      <td>95</td>\n",
       "      <td>Land of Toys Inc.</td>\n",
       "      <td>NYC</td>\n",
       "      <td>USA</td>\n",
       "      <td>1</td>\n",
       "      <td>3</td>\n",
       "    </tr>\n",
       "    <tr>\n",
       "      <th>1</th>\n",
       "      <td>34</td>\n",
       "      <td>81.35</td>\n",
       "      <td>5</td>\n",
       "      <td>2765.90</td>\n",
       "      <td>2</td>\n",
       "      <td>5</td>\n",
       "      <td>2003</td>\n",
       "      <td>Motorcycles</td>\n",
       "      <td>95</td>\n",
       "      <td>Reims Collectables</td>\n",
       "      <td>Reims</td>\n",
       "      <td>France</td>\n",
       "      <td>1</td>\n",
       "      <td>3</td>\n",
       "    </tr>\n",
       "    <tr>\n",
       "      <th>2</th>\n",
       "      <td>41</td>\n",
       "      <td>94.74</td>\n",
       "      <td>2</td>\n",
       "      <td>3884.34</td>\n",
       "      <td>3</td>\n",
       "      <td>7</td>\n",
       "      <td>2003</td>\n",
       "      <td>Motorcycles</td>\n",
       "      <td>95</td>\n",
       "      <td>Lyon Souveniers</td>\n",
       "      <td>Paris</td>\n",
       "      <td>France</td>\n",
       "      <td>1</td>\n",
       "      <td>2</td>\n",
       "    </tr>\n",
       "    <tr>\n",
       "      <th>3</th>\n",
       "      <td>45</td>\n",
       "      <td>83.26</td>\n",
       "      <td>6</td>\n",
       "      <td>3746.70</td>\n",
       "      <td>3</td>\n",
       "      <td>8</td>\n",
       "      <td>2003</td>\n",
       "      <td>Motorcycles</td>\n",
       "      <td>95</td>\n",
       "      <td>Toys4GrownUps.com</td>\n",
       "      <td>Pasadena</td>\n",
       "      <td>USA</td>\n",
       "      <td>1</td>\n",
       "      <td>2</td>\n",
       "    </tr>\n",
       "    <tr>\n",
       "      <th>4</th>\n",
       "      <td>49</td>\n",
       "      <td>100.00</td>\n",
       "      <td>14</td>\n",
       "      <td>5205.27</td>\n",
       "      <td>4</td>\n",
       "      <td>10</td>\n",
       "      <td>2003</td>\n",
       "      <td>Motorcycles</td>\n",
       "      <td>95</td>\n",
       "      <td>Corporate Gift Ideas Co.</td>\n",
       "      <td>San Francisco</td>\n",
       "      <td>USA</td>\n",
       "      <td>1</td>\n",
       "      <td>2</td>\n",
       "    </tr>\n",
       "  </tbody>\n",
       "</table>\n",
       "</div>"
      ],
      "text/plain": [
       "   QUANTITYORDERED  PRICEEACH  ORDERLINENUMBER    SALES  QTR_ID  MONTH_ID  \\\n",
       "0               30      95.70                2  2871.00       1         2   \n",
       "1               34      81.35                5  2765.90       2         5   \n",
       "2               41      94.74                2  3884.34       3         7   \n",
       "3               45      83.26                6  3746.70       3         8   \n",
       "4               49     100.00               14  5205.27       4        10   \n",
       "\n",
       "   YEAR_ID  PRODUCTLINE  MSRP              CUSTOMERNAME           CITY  \\\n",
       "0     2003  Motorcycles    95         Land of Toys Inc.            NYC   \n",
       "1     2003  Motorcycles    95        Reims Collectables          Reims   \n",
       "2     2003  Motorcycles    95           Lyon Souveniers          Paris   \n",
       "3     2003  Motorcycles    95         Toys4GrownUps.com       Pasadena   \n",
       "4     2003  Motorcycles    95  Corporate Gift Ideas Co.  San Francisco   \n",
       "\n",
       "  COUNTRY  TERRITORY  DEALSIZE  \n",
       "0     USA          1         3  \n",
       "1  France          1         3  \n",
       "2  France          1         2  \n",
       "3     USA          1         2  \n",
       "4     USA          1         2  "
      ]
     },
     "execution_count": 104,
     "metadata": {},
     "output_type": "execute_result"
    }
   ],
   "source": [
    "df_sales.head()"
   ]
  },
  {
   "cell_type": "code",
   "execution_count": 105,
   "id": "1fafc34a",
   "metadata": {
    "ExecuteTime": {
     "end_time": "2022-12-04T12:20:42.498624Z",
     "start_time": "2022-12-04T12:20:42.429221Z"
    }
   },
   "outputs": [
    {
     "data": {
      "text/html": [
       "<div>\n",
       "<style scoped>\n",
       "    .dataframe tbody tr th:only-of-type {\n",
       "        vertical-align: middle;\n",
       "    }\n",
       "\n",
       "    .dataframe tbody tr th {\n",
       "        vertical-align: top;\n",
       "    }\n",
       "\n",
       "    .dataframe thead th {\n",
       "        text-align: right;\n",
       "    }\n",
       "</style>\n",
       "<table border=\"1\" class=\"dataframe\">\n",
       "  <thead>\n",
       "    <tr style=\"text-align: right;\">\n",
       "      <th></th>\n",
       "      <th>QUANTITYORDERED</th>\n",
       "      <th>PRICEEACH</th>\n",
       "      <th>ORDERLINENUMBER</th>\n",
       "      <th>SALES</th>\n",
       "      <th>QTR_ID</th>\n",
       "      <th>MONTH_ID</th>\n",
       "      <th>YEAR_ID</th>\n",
       "      <th>MSRP</th>\n",
       "      <th>TERRITORY</th>\n",
       "      <th>DEALSIZE</th>\n",
       "    </tr>\n",
       "  </thead>\n",
       "  <tbody>\n",
       "    <tr>\n",
       "      <th>count</th>\n",
       "      <td>2823.000000</td>\n",
       "      <td>2823.000000</td>\n",
       "      <td>2823.000000</td>\n",
       "      <td>2823.000000</td>\n",
       "      <td>2823.000000</td>\n",
       "      <td>2823.000000</td>\n",
       "      <td>2823.00000</td>\n",
       "      <td>2823.000000</td>\n",
       "      <td>2823.000000</td>\n",
       "      <td>2823.000000</td>\n",
       "    </tr>\n",
       "    <tr>\n",
       "      <th>mean</th>\n",
       "      <td>35.092809</td>\n",
       "      <td>83.658544</td>\n",
       "      <td>6.466171</td>\n",
       "      <td>3553.889072</td>\n",
       "      <td>2.717676</td>\n",
       "      <td>7.092455</td>\n",
       "      <td>2003.81509</td>\n",
       "      <td>100.715551</td>\n",
       "      <td>1.164010</td>\n",
       "      <td>2.398512</td>\n",
       "    </tr>\n",
       "    <tr>\n",
       "      <th>std</th>\n",
       "      <td>9.741443</td>\n",
       "      <td>20.174277</td>\n",
       "      <td>4.225841</td>\n",
       "      <td>1841.865106</td>\n",
       "      <td>1.203878</td>\n",
       "      <td>3.656633</td>\n",
       "      <td>0.69967</td>\n",
       "      <td>40.187912</td>\n",
       "      <td>0.472138</td>\n",
       "      <td>0.592498</td>\n",
       "    </tr>\n",
       "    <tr>\n",
       "      <th>min</th>\n",
       "      <td>6.000000</td>\n",
       "      <td>26.880000</td>\n",
       "      <td>1.000000</td>\n",
       "      <td>482.130000</td>\n",
       "      <td>1.000000</td>\n",
       "      <td>1.000000</td>\n",
       "      <td>2003.00000</td>\n",
       "      <td>33.000000</td>\n",
       "      <td>1.000000</td>\n",
       "      <td>1.000000</td>\n",
       "    </tr>\n",
       "    <tr>\n",
       "      <th>25%</th>\n",
       "      <td>27.000000</td>\n",
       "      <td>68.860000</td>\n",
       "      <td>3.000000</td>\n",
       "      <td>2203.430000</td>\n",
       "      <td>2.000000</td>\n",
       "      <td>4.000000</td>\n",
       "      <td>2003.00000</td>\n",
       "      <td>68.000000</td>\n",
       "      <td>1.000000</td>\n",
       "      <td>2.000000</td>\n",
       "    </tr>\n",
       "    <tr>\n",
       "      <th>50%</th>\n",
       "      <td>35.000000</td>\n",
       "      <td>95.700000</td>\n",
       "      <td>6.000000</td>\n",
       "      <td>3184.800000</td>\n",
       "      <td>3.000000</td>\n",
       "      <td>8.000000</td>\n",
       "      <td>2004.00000</td>\n",
       "      <td>99.000000</td>\n",
       "      <td>1.000000</td>\n",
       "      <td>2.000000</td>\n",
       "    </tr>\n",
       "    <tr>\n",
       "      <th>75%</th>\n",
       "      <td>43.000000</td>\n",
       "      <td>100.000000</td>\n",
       "      <td>9.000000</td>\n",
       "      <td>4508.000000</td>\n",
       "      <td>4.000000</td>\n",
       "      <td>11.000000</td>\n",
       "      <td>2004.00000</td>\n",
       "      <td>124.000000</td>\n",
       "      <td>1.000000</td>\n",
       "      <td>3.000000</td>\n",
       "    </tr>\n",
       "    <tr>\n",
       "      <th>max</th>\n",
       "      <td>97.000000</td>\n",
       "      <td>100.000000</td>\n",
       "      <td>18.000000</td>\n",
       "      <td>14082.800000</td>\n",
       "      <td>4.000000</td>\n",
       "      <td>12.000000</td>\n",
       "      <td>2005.00000</td>\n",
       "      <td>214.000000</td>\n",
       "      <td>3.000000</td>\n",
       "      <td>3.000000</td>\n",
       "    </tr>\n",
       "  </tbody>\n",
       "</table>\n",
       "</div>"
      ],
      "text/plain": [
       "       QUANTITYORDERED    PRICEEACH  ORDERLINENUMBER         SALES  \\\n",
       "count      2823.000000  2823.000000      2823.000000   2823.000000   \n",
       "mean         35.092809    83.658544         6.466171   3553.889072   \n",
       "std           9.741443    20.174277         4.225841   1841.865106   \n",
       "min           6.000000    26.880000         1.000000    482.130000   \n",
       "25%          27.000000    68.860000         3.000000   2203.430000   \n",
       "50%          35.000000    95.700000         6.000000   3184.800000   \n",
       "75%          43.000000   100.000000         9.000000   4508.000000   \n",
       "max          97.000000   100.000000        18.000000  14082.800000   \n",
       "\n",
       "            QTR_ID     MONTH_ID     YEAR_ID         MSRP    TERRITORY  \\\n",
       "count  2823.000000  2823.000000  2823.00000  2823.000000  2823.000000   \n",
       "mean      2.717676     7.092455  2003.81509   100.715551     1.164010   \n",
       "std       1.203878     3.656633     0.69967    40.187912     0.472138   \n",
       "min       1.000000     1.000000  2003.00000    33.000000     1.000000   \n",
       "25%       2.000000     4.000000  2003.00000    68.000000     1.000000   \n",
       "50%       3.000000     8.000000  2004.00000    99.000000     1.000000   \n",
       "75%       4.000000    11.000000  2004.00000   124.000000     1.000000   \n",
       "max       4.000000    12.000000  2005.00000   214.000000     3.000000   \n",
       "\n",
       "          DEALSIZE  \n",
       "count  2823.000000  \n",
       "mean      2.398512  \n",
       "std       0.592498  \n",
       "min       1.000000  \n",
       "25%       2.000000  \n",
       "50%       2.000000  \n",
       "75%       3.000000  \n",
       "max       3.000000  "
      ]
     },
     "execution_count": 105,
     "metadata": {},
     "output_type": "execute_result"
    }
   ],
   "source": [
    "df_sales.describe()"
   ]
  },
  {
   "cell_type": "code",
   "execution_count": 106,
   "id": "436f37e9",
   "metadata": {
    "ExecuteTime": {
     "end_time": "2022-12-04T12:20:44.876735Z",
     "start_time": "2022-12-04T12:20:42.650381Z"
    }
   },
   "outputs": [
    {
     "data": {
      "image/png": "[encoded data removed]",
      "text/plain": [
       "<Figure size 900x500 with 12 Axes>"
      ]
     },
     "metadata": {},
     "output_type": "display_data"
    }
   ],
   "source": [
    "plt.rcParams['figure.figsize'] = [9,5]\n",
    "df_sales.hist()\n",
    "plt.tight_layout()\n",
    "plt.show()"
   ]
  },
  {
   "cell_type": "code",
   "execution_count": 107,
   "id": "6955a87e",
   "metadata": {
    "ExecuteTime": {
     "end_time": "2022-12-04T12:20:44.922752Z",
     "start_time": "2022-12-04T12:20:44.881753Z"
    }
   },
   "outputs": [
    {
     "data": {
      "text/html": [
       "<div>\n",
       "<style scoped>\n",
       "    .dataframe tbody tr th:only-of-type {\n",
       "        vertical-align: middle;\n",
       "    }\n",
       "\n",
       "    .dataframe tbody tr th {\n",
       "        vertical-align: top;\n",
       "    }\n",
       "\n",
       "    .dataframe thead th {\n",
       "        text-align: right;\n",
       "    }\n",
       "</style>\n",
       "<table border=\"1\" class=\"dataframe\">\n",
       "  <thead>\n",
       "    <tr style=\"text-align: right;\">\n",
       "      <th></th>\n",
       "      <th>QUANTITYORDERED</th>\n",
       "      <th>PRICEEACH</th>\n",
       "      <th>ORDERLINENUMBER</th>\n",
       "      <th>SALES</th>\n",
       "      <th>QTR_ID</th>\n",
       "      <th>MONTH_ID</th>\n",
       "      <th>YEAR_ID</th>\n",
       "      <th>PRODUCTLINE</th>\n",
       "      <th>MSRP</th>\n",
       "      <th>CUSTOMERNAME</th>\n",
       "      <th>CITY</th>\n",
       "      <th>COUNTRY</th>\n",
       "      <th>TERRITORY</th>\n",
       "      <th>DEALSIZE</th>\n",
       "    </tr>\n",
       "  </thead>\n",
       "  <tbody>\n",
       "    <tr>\n",
       "      <th>0</th>\n",
       "      <td>30</td>\n",
       "      <td>95.70</td>\n",
       "      <td>2</td>\n",
       "      <td>2871.00</td>\n",
       "      <td>1</td>\n",
       "      <td>2</td>\n",
       "      <td>2003</td>\n",
       "      <td>Motorcycles</td>\n",
       "      <td>95</td>\n",
       "      <td>Land of Toys Inc.</td>\n",
       "      <td>NYC</td>\n",
       "      <td>USA</td>\n",
       "      <td>1</td>\n",
       "      <td>3</td>\n",
       "    </tr>\n",
       "    <tr>\n",
       "      <th>1</th>\n",
       "      <td>34</td>\n",
       "      <td>81.35</td>\n",
       "      <td>5</td>\n",
       "      <td>2765.90</td>\n",
       "      <td>2</td>\n",
       "      <td>5</td>\n",
       "      <td>2003</td>\n",
       "      <td>Motorcycles</td>\n",
       "      <td>95</td>\n",
       "      <td>Reims Collectables</td>\n",
       "      <td>Reims</td>\n",
       "      <td>France</td>\n",
       "      <td>1</td>\n",
       "      <td>3</td>\n",
       "    </tr>\n",
       "    <tr>\n",
       "      <th>2</th>\n",
       "      <td>41</td>\n",
       "      <td>94.74</td>\n",
       "      <td>2</td>\n",
       "      <td>3884.34</td>\n",
       "      <td>3</td>\n",
       "      <td>7</td>\n",
       "      <td>2003</td>\n",
       "      <td>Motorcycles</td>\n",
       "      <td>95</td>\n",
       "      <td>Lyon Souveniers</td>\n",
       "      <td>Paris</td>\n",
       "      <td>France</td>\n",
       "      <td>1</td>\n",
       "      <td>2</td>\n",
       "    </tr>\n",
       "    <tr>\n",
       "      <th>3</th>\n",
       "      <td>45</td>\n",
       "      <td>83.26</td>\n",
       "      <td>6</td>\n",
       "      <td>3746.70</td>\n",
       "      <td>3</td>\n",
       "      <td>8</td>\n",
       "      <td>2003</td>\n",
       "      <td>Motorcycles</td>\n",
       "      <td>95</td>\n",
       "      <td>Toys4GrownUps.com</td>\n",
       "      <td>Pasadena</td>\n",
       "      <td>USA</td>\n",
       "      <td>1</td>\n",
       "      <td>2</td>\n",
       "    </tr>\n",
       "    <tr>\n",
       "      <th>4</th>\n",
       "      <td>49</td>\n",
       "      <td>100.00</td>\n",
       "      <td>14</td>\n",
       "      <td>5205.27</td>\n",
       "      <td>4</td>\n",
       "      <td>10</td>\n",
       "      <td>2003</td>\n",
       "      <td>Motorcycles</td>\n",
       "      <td>95</td>\n",
       "      <td>Corporate Gift Ideas Co.</td>\n",
       "      <td>San Francisco</td>\n",
       "      <td>USA</td>\n",
       "      <td>1</td>\n",
       "      <td>2</td>\n",
       "    </tr>\n",
       "  </tbody>\n",
       "</table>\n",
       "</div>"
      ],
      "text/plain": [
       "   QUANTITYORDERED  PRICEEACH  ORDERLINENUMBER    SALES  QTR_ID  MONTH_ID  \\\n",
       "0               30      95.70                2  2871.00       1         2   \n",
       "1               34      81.35                5  2765.90       2         5   \n",
       "2               41      94.74                2  3884.34       3         7   \n",
       "3               45      83.26                6  3746.70       3         8   \n",
       "4               49     100.00               14  5205.27       4        10   \n",
       "\n",
       "   YEAR_ID  PRODUCTLINE  MSRP              CUSTOMERNAME           CITY  \\\n",
       "0     2003  Motorcycles    95         Land of Toys Inc.            NYC   \n",
       "1     2003  Motorcycles    95        Reims Collectables          Reims   \n",
       "2     2003  Motorcycles    95           Lyon Souveniers          Paris   \n",
       "3     2003  Motorcycles    95         Toys4GrownUps.com       Pasadena   \n",
       "4     2003  Motorcycles    95  Corporate Gift Ideas Co.  San Francisco   \n",
       "\n",
       "  COUNTRY  TERRITORY  DEALSIZE  \n",
       "0     USA          1         3  \n",
       "1  France          1         3  \n",
       "2  France          1         2  \n",
       "3     USA          1         2  \n",
       "4     USA          1         2  "
      ]
     },
     "execution_count": 107,
     "metadata": {},
     "output_type": "execute_result"
    }
   ],
   "source": [
    "df_sales.head()"
   ]
  },
  {
   "cell_type": "code",
   "execution_count": 108,
   "id": "c7ec0fec",
   "metadata": {
    "ExecuteTime": {
     "end_time": "2022-12-04T12:20:44.968634Z",
     "start_time": "2022-12-04T12:20:44.924747Z"
    }
   },
   "outputs": [
    {
     "data": {
      "text/html": [
       "<div>\n",
       "<style scoped>\n",
       "    .dataframe tbody tr th:only-of-type {\n",
       "        vertical-align: middle;\n",
       "    }\n",
       "\n",
       "    .dataframe tbody tr th {\n",
       "        vertical-align: top;\n",
       "    }\n",
       "\n",
       "    .dataframe thead th {\n",
       "        text-align: right;\n",
       "    }\n",
       "</style>\n",
       "<table border=\"1\" class=\"dataframe\">\n",
       "  <thead>\n",
       "    <tr style=\"text-align: right;\">\n",
       "      <th></th>\n",
       "      <th>QUANTITYORDERED</th>\n",
       "      <th>PRICEEACH</th>\n",
       "      <th>ORDERLINENUMBER</th>\n",
       "      <th>SALES</th>\n",
       "      <th>QTR_ID</th>\n",
       "      <th>MONTH_ID</th>\n",
       "      <th>YEAR_ID</th>\n",
       "      <th>MSRP</th>\n",
       "      <th>TERRITORY</th>\n",
       "      <th>DEALSIZE</th>\n",
       "      <th>...</th>\n",
       "      <th>COUNTRY_Italy</th>\n",
       "      <th>COUNTRY_Japan</th>\n",
       "      <th>COUNTRY_Norway</th>\n",
       "      <th>COUNTRY_Philippines</th>\n",
       "      <th>COUNTRY_Singapore</th>\n",
       "      <th>COUNTRY_Spain</th>\n",
       "      <th>COUNTRY_Sweden</th>\n",
       "      <th>COUNTRY_Switzerland</th>\n",
       "      <th>COUNTRY_UK</th>\n",
       "      <th>COUNTRY_USA</th>\n",
       "    </tr>\n",
       "  </thead>\n",
       "  <tbody>\n",
       "    <tr>\n",
       "      <th>0</th>\n",
       "      <td>30</td>\n",
       "      <td>95.70</td>\n",
       "      <td>2</td>\n",
       "      <td>2871.00</td>\n",
       "      <td>1</td>\n",
       "      <td>2</td>\n",
       "      <td>2003</td>\n",
       "      <td>95</td>\n",
       "      <td>1</td>\n",
       "      <td>3</td>\n",
       "      <td>...</td>\n",
       "      <td>0</td>\n",
       "      <td>0</td>\n",
       "      <td>0</td>\n",
       "      <td>0</td>\n",
       "      <td>0</td>\n",
       "      <td>0</td>\n",
       "      <td>0</td>\n",
       "      <td>0</td>\n",
       "      <td>0</td>\n",
       "      <td>1</td>\n",
       "    </tr>\n",
       "    <tr>\n",
       "      <th>1</th>\n",
       "      <td>34</td>\n",
       "      <td>81.35</td>\n",
       "      <td>5</td>\n",
       "      <td>2765.90</td>\n",
       "      <td>2</td>\n",
       "      <td>5</td>\n",
       "      <td>2003</td>\n",
       "      <td>95</td>\n",
       "      <td>1</td>\n",
       "      <td>3</td>\n",
       "      <td>...</td>\n",
       "      <td>0</td>\n",
       "      <td>0</td>\n",
       "      <td>0</td>\n",
       "      <td>0</td>\n",
       "      <td>0</td>\n",
       "      <td>0</td>\n",
       "      <td>0</td>\n",
       "      <td>0</td>\n",
       "      <td>0</td>\n",
       "      <td>0</td>\n",
       "    </tr>\n",
       "    <tr>\n",
       "      <th>2</th>\n",
       "      <td>41</td>\n",
       "      <td>94.74</td>\n",
       "      <td>2</td>\n",
       "      <td>3884.34</td>\n",
       "      <td>3</td>\n",
       "      <td>7</td>\n",
       "      <td>2003</td>\n",
       "      <td>95</td>\n",
       "      <td>1</td>\n",
       "      <td>2</td>\n",
       "      <td>...</td>\n",
       "      <td>0</td>\n",
       "      <td>0</td>\n",
       "      <td>0</td>\n",
       "      <td>0</td>\n",
       "      <td>0</td>\n",
       "      <td>0</td>\n",
       "      <td>0</td>\n",
       "      <td>0</td>\n",
       "      <td>0</td>\n",
       "      <td>0</td>\n",
       "    </tr>\n",
       "    <tr>\n",
       "      <th>3</th>\n",
       "      <td>45</td>\n",
       "      <td>83.26</td>\n",
       "      <td>6</td>\n",
       "      <td>3746.70</td>\n",
       "      <td>3</td>\n",
       "      <td>8</td>\n",
       "      <td>2003</td>\n",
       "      <td>95</td>\n",
       "      <td>1</td>\n",
       "      <td>2</td>\n",
       "      <td>...</td>\n",
       "      <td>0</td>\n",
       "      <td>0</td>\n",
       "      <td>0</td>\n",
       "      <td>0</td>\n",
       "      <td>0</td>\n",
       "      <td>0</td>\n",
       "      <td>0</td>\n",
       "      <td>0</td>\n",
       "      <td>0</td>\n",
       "      <td>1</td>\n",
       "    </tr>\n",
       "    <tr>\n",
       "      <th>4</th>\n",
       "      <td>49</td>\n",
       "      <td>100.00</td>\n",
       "      <td>14</td>\n",
       "      <td>5205.27</td>\n",
       "      <td>4</td>\n",
       "      <td>10</td>\n",
       "      <td>2003</td>\n",
       "      <td>95</td>\n",
       "      <td>1</td>\n",
       "      <td>2</td>\n",
       "      <td>...</td>\n",
       "      <td>0</td>\n",
       "      <td>0</td>\n",
       "      <td>0</td>\n",
       "      <td>0</td>\n",
       "      <td>0</td>\n",
       "      <td>0</td>\n",
       "      <td>0</td>\n",
       "      <td>0</td>\n",
       "      <td>0</td>\n",
       "      <td>1</td>\n",
       "    </tr>\n",
       "  </tbody>\n",
       "</table>\n",
       "<p>5 rows × 201 columns</p>\n",
       "</div>"
      ],
      "text/plain": [
       "   QUANTITYORDERED  PRICEEACH  ORDERLINENUMBER    SALES  QTR_ID  MONTH_ID  \\\n",
       "0               30      95.70                2  2871.00       1         2   \n",
       "1               34      81.35                5  2765.90       2         5   \n",
       "2               41      94.74                2  3884.34       3         7   \n",
       "3               45      83.26                6  3746.70       3         8   \n",
       "4               49     100.00               14  5205.27       4        10   \n",
       "\n",
       "   YEAR_ID  MSRP  TERRITORY  DEALSIZE  ...  COUNTRY_Italy  COUNTRY_Japan  \\\n",
       "0     2003    95          1         3  ...              0              0   \n",
       "1     2003    95          1         3  ...              0              0   \n",
       "2     2003    95          1         2  ...              0              0   \n",
       "3     2003    95          1         2  ...              0              0   \n",
       "4     2003    95          1         2  ...              0              0   \n",
       "\n",
       "   COUNTRY_Norway  COUNTRY_Philippines  COUNTRY_Singapore  COUNTRY_Spain  \\\n",
       "0               0                    0                  0              0   \n",
       "1               0                    0                  0              0   \n",
       "2               0                    0                  0              0   \n",
       "3               0                    0                  0              0   \n",
       "4               0                    0                  0              0   \n",
       "\n",
       "   COUNTRY_Sweden  COUNTRY_Switzerland  COUNTRY_UK  COUNTRY_USA  \n",
       "0               0                    0           0            1  \n",
       "1               0                    0           0            0  \n",
       "2               0                    0           0            0  \n",
       "3               0                    0           0            1  \n",
       "4               0                    0           0            1  \n",
       "\n",
       "[5 rows x 201 columns]"
      ]
     },
     "execution_count": 108,
     "metadata": {},
     "output_type": "execute_result"
    }
   ],
   "source": [
    "dummy_df = pd.get_dummies(df_sales)\n",
    "dummy_df.head()"
   ]
  },
  {
   "cell_type": "code",
   "execution_count": 109,
   "id": "545a263b",
   "metadata": {
    "ExecuteTime": {
     "end_time": "2022-12-04T12:20:45.014546Z",
     "start_time": "2022-12-04T12:20:44.972627Z"
    }
   },
   "outputs": [
    {
     "name": "stdout",
     "output_type": "stream",
     "text": [
      "[[-0.52289086  0.5969775  -1.05705871 ... -0.10537149 -0.23184348\n",
      "   1.34601374]\n",
      " [-0.11220131 -0.11445035 -0.34701507 ... -0.10537149 -0.23184348\n",
      "  -0.74293447]\n",
      " [ 0.60650538  0.54938372 -1.05705871 ... -0.10537149 -0.23184348\n",
      "  -0.74293447]\n",
      " ...\n",
      " [ 0.81185016  0.81015797 -0.58369628 ... -0.10537149 -0.23184348\n",
      "  -0.74293447]\n",
      " [-0.11220131 -1.06186404 -1.29373992 ... -0.10537149 -0.23184348\n",
      "  -0.74293447]\n",
      " [ 1.2225397  -0.89925195  0.59970978 ... -0.10537149 -0.23184348\n",
      "   1.34601374]]\n"
     ]
    }
   ],
   "source": [
    "# Use StandardScaler to scale the data\n",
    "sc = StandardScaler()\n",
    "sales_std =  sc.fit_transform(dummy_df)\n",
    "\n",
    "print(sales_std)"
   ]
  },
  {
   "cell_type": "markdown",
   "id": "3c138e42",
   "metadata": {},
   "source": [
    "### PCA FOR VISUALIZATION\n",
    "\n",
    "Type Markdown and LaTeX:  𝛼2"
   ]
  },
  {
   "cell_type": "code",
   "execution_count": 110,
   "id": "a8ae8183",
   "metadata": {
    "ExecuteTime": {
     "end_time": "2022-12-04T12:20:45.061417Z",
     "start_time": "2022-12-04T12:20:45.047419Z"
    }
   },
   "outputs": [],
   "source": [
    "df_sales_std = pd.DataFrame(sales_std, columns = dummy_df.columns)"
   ]
  },
  {
   "cell_type": "code",
   "execution_count": 111,
   "id": "de24b2fa",
   "metadata": {
    "ExecuteTime": {
     "end_time": "2022-12-04T12:20:45.699100Z",
     "start_time": "2022-12-04T12:20:45.660174Z"
    }
   },
   "outputs": [
    {
     "name": "stdout",
     "output_type": "stream",
     "text": [
      "Mean: \n",
      " QUANTITYORDERED        0.0\n",
      "PRICEEACH             -0.0\n",
      "ORDERLINENUMBER        0.0\n",
      "SALES                  0.0\n",
      "QTR_ID                 0.0\n",
      "                      ... \n",
      "COUNTRY_Spain          0.0\n",
      "COUNTRY_Sweden         0.0\n",
      "COUNTRY_Switzerland    0.0\n",
      "COUNTRY_UK            -0.0\n",
      "COUNTRY_USA            0.0\n",
      "Length: 201, dtype: float64\n",
      "\n",
      "\n",
      "Standard Deviation: \n",
      " QUANTITYORDERED        1.0\n",
      "PRICEEACH              1.0\n",
      "ORDERLINENUMBER        1.0\n",
      "SALES                  1.0\n",
      "QTR_ID                 1.0\n",
      "                      ... \n",
      "COUNTRY_Spain          1.0\n",
      "COUNTRY_Sweden         1.0\n",
      "COUNTRY_Switzerland    1.0\n",
      "COUNTRY_UK             1.0\n",
      "COUNTRY_USA            1.0\n",
      "Length: 201, dtype: float64\n"
     ]
    }
   ],
   "source": [
    "# check the mean and standard deviation of each variable\n",
    "# use 'round()' to get the integer output\n",
    "print('Mean: \\n', round(df_sales_std.mean()))\n",
    "\n",
    "# print a blank line\n",
    "print('\\n')\n",
    "\n",
    "print('Standard Deviation: \\n', round(df_sales_std.std()))"
   ]
  },
  {
   "cell_type": "markdown",
   "id": "9a8c8a3e",
   "metadata": {},
   "source": [
    "Interpretation: The above output shows that all the variables have mean = 0 and standard deviation = 1. Thus we have standardized the independent variables."
   ]
  },
  {
   "cell_type": "code",
   "execution_count": 112,
   "id": "8879921f",
   "metadata": {
    "ExecuteTime": {
     "end_time": "2022-12-04T12:20:46.838470Z",
     "start_time": "2022-12-04T12:20:46.769511Z"
    }
   },
   "outputs": [
    {
     "data": {
      "text/html": [
       "<div>\n",
       "<style scoped>\n",
       "    .dataframe tbody tr th:only-of-type {\n",
       "        vertical-align: middle;\n",
       "    }\n",
       "\n",
       "    .dataframe tbody tr th {\n",
       "        vertical-align: top;\n",
       "    }\n",
       "\n",
       "    .dataframe thead th {\n",
       "        text-align: right;\n",
       "    }\n",
       "</style>\n",
       "<table border=\"1\" class=\"dataframe\">\n",
       "  <thead>\n",
       "    <tr style=\"text-align: right;\">\n",
       "      <th></th>\n",
       "      <th>QUANTITYORDERED</th>\n",
       "      <th>PRICEEACH</th>\n",
       "      <th>ORDERLINENUMBER</th>\n",
       "      <th>SALES</th>\n",
       "      <th>QTR_ID</th>\n",
       "      <th>MONTH_ID</th>\n",
       "      <th>YEAR_ID</th>\n",
       "      <th>MSRP</th>\n",
       "      <th>TERRITORY</th>\n",
       "      <th>DEALSIZE</th>\n",
       "      <th>...</th>\n",
       "      <th>COUNTRY_Italy</th>\n",
       "      <th>COUNTRY_Japan</th>\n",
       "      <th>COUNTRY_Norway</th>\n",
       "      <th>COUNTRY_Philippines</th>\n",
       "      <th>COUNTRY_Singapore</th>\n",
       "      <th>COUNTRY_Spain</th>\n",
       "      <th>COUNTRY_Sweden</th>\n",
       "      <th>COUNTRY_Switzerland</th>\n",
       "      <th>COUNTRY_UK</th>\n",
       "      <th>COUNTRY_USA</th>\n",
       "    </tr>\n",
       "  </thead>\n",
       "  <tbody>\n",
       "    <tr>\n",
       "      <th>0</th>\n",
       "      <td>-0.522891</td>\n",
       "      <td>0.596978</td>\n",
       "      <td>-1.057059</td>\n",
       "      <td>-0.370825</td>\n",
       "      <td>-1.427039</td>\n",
       "      <td>-1.392909</td>\n",
       "      <td>-1.16517</td>\n",
       "      <td>-0.142246</td>\n",
       "      <td>-0.347439</td>\n",
       "      <td>1.015353</td>\n",
       "      <td>...</td>\n",
       "      <td>-0.204199</td>\n",
       "      <td>-0.136988</td>\n",
       "      <td>-0.176195</td>\n",
       "      <td>-0.096414</td>\n",
       "      <td>-0.169676</td>\n",
       "      <td>-0.371278</td>\n",
       "      <td>-0.143553</td>\n",
       "      <td>-0.105371</td>\n",
       "      <td>-0.231843</td>\n",
       "      <td>1.346014</td>\n",
       "    </tr>\n",
       "    <tr>\n",
       "      <th>1</th>\n",
       "      <td>-0.112201</td>\n",
       "      <td>-0.114450</td>\n",
       "      <td>-0.347015</td>\n",
       "      <td>-0.427897</td>\n",
       "      <td>-0.596243</td>\n",
       "      <td>-0.572337</td>\n",
       "      <td>-1.16517</td>\n",
       "      <td>-0.142246</td>\n",
       "      <td>-0.347439</td>\n",
       "      <td>1.015353</td>\n",
       "      <td>...</td>\n",
       "      <td>-0.204199</td>\n",
       "      <td>-0.136988</td>\n",
       "      <td>-0.176195</td>\n",
       "      <td>-0.096414</td>\n",
       "      <td>-0.169676</td>\n",
       "      <td>-0.371278</td>\n",
       "      <td>-0.143553</td>\n",
       "      <td>-0.105371</td>\n",
       "      <td>-0.231843</td>\n",
       "      <td>-0.742934</td>\n",
       "    </tr>\n",
       "    <tr>\n",
       "      <th>2</th>\n",
       "      <td>0.606505</td>\n",
       "      <td>0.549384</td>\n",
       "      <td>-1.057059</td>\n",
       "      <td>0.179443</td>\n",
       "      <td>0.234553</td>\n",
       "      <td>-0.025289</td>\n",
       "      <td>-1.16517</td>\n",
       "      <td>-0.142246</td>\n",
       "      <td>-0.347439</td>\n",
       "      <td>-0.672716</td>\n",
       "      <td>...</td>\n",
       "      <td>-0.204199</td>\n",
       "      <td>-0.136988</td>\n",
       "      <td>-0.176195</td>\n",
       "      <td>-0.096414</td>\n",
       "      <td>-0.169676</td>\n",
       "      <td>-0.371278</td>\n",
       "      <td>-0.143553</td>\n",
       "      <td>-0.105371</td>\n",
       "      <td>-0.231843</td>\n",
       "      <td>-0.742934</td>\n",
       "    </tr>\n",
       "    <tr>\n",
       "      <th>3</th>\n",
       "      <td>1.017195</td>\n",
       "      <td>-0.019759</td>\n",
       "      <td>-0.110334</td>\n",
       "      <td>0.104701</td>\n",
       "      <td>0.234553</td>\n",
       "      <td>0.248235</td>\n",
       "      <td>-1.16517</td>\n",
       "      <td>-0.142246</td>\n",
       "      <td>-0.347439</td>\n",
       "      <td>-0.672716</td>\n",
       "      <td>...</td>\n",
       "      <td>-0.204199</td>\n",
       "      <td>-0.136988</td>\n",
       "      <td>-0.176195</td>\n",
       "      <td>-0.096414</td>\n",
       "      <td>-0.169676</td>\n",
       "      <td>-0.371278</td>\n",
       "      <td>-0.143553</td>\n",
       "      <td>-0.105371</td>\n",
       "      <td>-0.231843</td>\n",
       "      <td>1.346014</td>\n",
       "    </tr>\n",
       "    <tr>\n",
       "      <th>4</th>\n",
       "      <td>1.427884</td>\n",
       "      <td>0.810158</td>\n",
       "      <td>1.783116</td>\n",
       "      <td>0.896740</td>\n",
       "      <td>1.065350</td>\n",
       "      <td>0.795284</td>\n",
       "      <td>-1.16517</td>\n",
       "      <td>-0.142246</td>\n",
       "      <td>-0.347439</td>\n",
       "      <td>-0.672716</td>\n",
       "      <td>...</td>\n",
       "      <td>-0.204199</td>\n",
       "      <td>-0.136988</td>\n",
       "      <td>-0.176195</td>\n",
       "      <td>-0.096414</td>\n",
       "      <td>-0.169676</td>\n",
       "      <td>-0.371278</td>\n",
       "      <td>-0.143553</td>\n",
       "      <td>-0.105371</td>\n",
       "      <td>-0.231843</td>\n",
       "      <td>1.346014</td>\n",
       "    </tr>\n",
       "  </tbody>\n",
       "</table>\n",
       "<p>5 rows × 201 columns</p>\n",
       "</div>"
      ],
      "text/plain": [
       "   QUANTITYORDERED  PRICEEACH  ORDERLINENUMBER     SALES    QTR_ID  MONTH_ID  \\\n",
       "0        -0.522891   0.596978        -1.057059 -0.370825 -1.427039 -1.392909   \n",
       "1        -0.112201  -0.114450        -0.347015 -0.427897 -0.596243 -0.572337   \n",
       "2         0.606505   0.549384        -1.057059  0.179443  0.234553 -0.025289   \n",
       "3         1.017195  -0.019759        -0.110334  0.104701  0.234553  0.248235   \n",
       "4         1.427884   0.810158         1.783116  0.896740  1.065350  0.795284   \n",
       "\n",
       "   YEAR_ID      MSRP  TERRITORY  DEALSIZE  ...  COUNTRY_Italy  COUNTRY_Japan  \\\n",
       "0 -1.16517 -0.142246  -0.347439  1.015353  ...      -0.204199      -0.136988   \n",
       "1 -1.16517 -0.142246  -0.347439  1.015353  ...      -0.204199      -0.136988   \n",
       "2 -1.16517 -0.142246  -0.347439 -0.672716  ...      -0.204199      -0.136988   \n",
       "3 -1.16517 -0.142246  -0.347439 -0.672716  ...      -0.204199      -0.136988   \n",
       "4 -1.16517 -0.142246  -0.347439 -0.672716  ...      -0.204199      -0.136988   \n",
       "\n",
       "   COUNTRY_Norway  COUNTRY_Philippines  COUNTRY_Singapore  COUNTRY_Spain  \\\n",
       "0       -0.176195            -0.096414          -0.169676      -0.371278   \n",
       "1       -0.176195            -0.096414          -0.169676      -0.371278   \n",
       "2       -0.176195            -0.096414          -0.169676      -0.371278   \n",
       "3       -0.176195            -0.096414          -0.169676      -0.371278   \n",
       "4       -0.176195            -0.096414          -0.169676      -0.371278   \n",
       "\n",
       "   COUNTRY_Sweden  COUNTRY_Switzerland  COUNTRY_UK  COUNTRY_USA  \n",
       "0       -0.143553            -0.105371   -0.231843     1.346014  \n",
       "1       -0.143553            -0.105371   -0.231843    -0.742934  \n",
       "2       -0.143553            -0.105371   -0.231843    -0.742934  \n",
       "3       -0.143553            -0.105371   -0.231843     1.346014  \n",
       "4       -0.143553            -0.105371   -0.231843     1.346014  \n",
       "\n",
       "[5 rows x 201 columns]"
      ]
     },
     "execution_count": 112,
     "metadata": {},
     "output_type": "execute_result"
    }
   ],
   "source": [
    "df_sales_std.head()"
   ]
  },
  {
   "cell_type": "code",
   "execution_count": 113,
   "id": "6f929ee4",
   "metadata": {
    "ExecuteTime": {
     "end_time": "2022-12-04T12:20:47.428021Z",
     "start_time": "2022-12-04T12:20:47.374623Z"
    }
   },
   "outputs": [
    {
     "name": "stdout",
     "output_type": "stream",
     "text": [
      "<class 'pandas.core.frame.DataFrame'>\n",
      "RangeIndex: 2823 entries, 0 to 2822\n",
      "Columns: 201 entries, QUANTITYORDERED to COUNTRY_USA\n",
      "dtypes: float64(201)\n",
      "memory usage: 4.3 MB\n"
     ]
    }
   ],
   "source": [
    "df_sales_std.info()"
   ]
  },
  {
   "cell_type": "code",
   "execution_count": 114,
   "id": "d5cc6aee",
   "metadata": {
    "ExecuteTime": {
     "end_time": "2022-12-04T12:20:47.645485Z",
     "start_time": "2022-12-04T12:20:47.606635Z"
    }
   },
   "outputs": [
    {
     "data": {
      "text/html": [
       "<div>\n",
       "<style scoped>\n",
       "    .dataframe tbody tr th:only-of-type {\n",
       "        vertical-align: middle;\n",
       "    }\n",
       "\n",
       "    .dataframe tbody tr th {\n",
       "        vertical-align: top;\n",
       "    }\n",
       "\n",
       "    .dataframe thead th {\n",
       "        text-align: right;\n",
       "    }\n",
       "</style>\n",
       "<table border=\"1\" class=\"dataframe\">\n",
       "  <thead>\n",
       "    <tr style=\"text-align: right;\">\n",
       "      <th></th>\n",
       "      <th>0</th>\n",
       "      <th>1</th>\n",
       "      <th>2</th>\n",
       "      <th>3</th>\n",
       "      <th>4</th>\n",
       "      <th>5</th>\n",
       "      <th>6</th>\n",
       "      <th>7</th>\n",
       "      <th>8</th>\n",
       "      <th>9</th>\n",
       "      <th>...</th>\n",
       "      <th>2813</th>\n",
       "      <th>2814</th>\n",
       "      <th>2815</th>\n",
       "      <th>2816</th>\n",
       "      <th>2817</th>\n",
       "      <th>2818</th>\n",
       "      <th>2819</th>\n",
       "      <th>2820</th>\n",
       "      <th>2821</th>\n",
       "      <th>2822</th>\n",
       "    </tr>\n",
       "  </thead>\n",
       "  <tbody>\n",
       "    <tr>\n",
       "      <th>QUANTITYORDERED</th>\n",
       "      <td>-0.522891</td>\n",
       "      <td>-0.112201</td>\n",
       "      <td>0.606505</td>\n",
       "      <td>1.017195</td>\n",
       "      <td>1.427884</td>\n",
       "      <td>0.093143</td>\n",
       "      <td>-0.625563</td>\n",
       "      <td>1.325212</td>\n",
       "      <td>-1.344270</td>\n",
       "      <td>0.606505</td>\n",
       "      <td>...</td>\n",
       "      <td>-0.317546</td>\n",
       "      <td>-0.009529</td>\n",
       "      <td>0.503833</td>\n",
       "      <td>0.195816</td>\n",
       "      <td>0.709178</td>\n",
       "      <td>-1.549615</td>\n",
       "      <td>-0.625563</td>\n",
       "      <td>0.811850</td>\n",
       "      <td>-0.112201</td>\n",
       "      <td>1.222540</td>\n",
       "    </tr>\n",
       "    <tr>\n",
       "      <th>PRICEEACH</th>\n",
       "      <td>0.596978</td>\n",
       "      <td>-0.114450</td>\n",
       "      <td>0.549384</td>\n",
       "      <td>-0.019759</td>\n",
       "      <td>0.810158</td>\n",
       "      <td>0.644571</td>\n",
       "      <td>0.122527</td>\n",
       "      <td>0.810158</td>\n",
       "      <td>0.739263</td>\n",
       "      <td>0.810158</td>\n",
       "      <td>...</td>\n",
       "      <td>-1.169942</td>\n",
       "      <td>-1.197209</td>\n",
       "      <td>-1.386592</td>\n",
       "      <td>0.152769</td>\n",
       "      <td>0.669360</td>\n",
       "      <td>0.810158</td>\n",
       "      <td>0.810158</td>\n",
       "      <td>0.810158</td>\n",
       "      <td>-1.061864</td>\n",
       "      <td>-0.899252</td>\n",
       "    </tr>\n",
       "    <tr>\n",
       "      <th>ORDERLINENUMBER</th>\n",
       "      <td>-1.057059</td>\n",
       "      <td>-0.347015</td>\n",
       "      <td>-1.057059</td>\n",
       "      <td>-0.110334</td>\n",
       "      <td>1.783116</td>\n",
       "      <td>-1.293740</td>\n",
       "      <td>0.599710</td>\n",
       "      <td>-1.293740</td>\n",
       "      <td>-1.057059</td>\n",
       "      <td>1.783116</td>\n",
       "      <td>...</td>\n",
       "      <td>-1.293740</td>\n",
       "      <td>-0.110334</td>\n",
       "      <td>-0.347015</td>\n",
       "      <td>-0.583696</td>\n",
       "      <td>-0.347015</td>\n",
       "      <td>2.019797</td>\n",
       "      <td>-1.293740</td>\n",
       "      <td>-0.583696</td>\n",
       "      <td>-1.293740</td>\n",
       "      <td>0.599710</td>\n",
       "    </tr>\n",
       "    <tr>\n",
       "      <th>SALES</th>\n",
       "      <td>-0.370825</td>\n",
       "      <td>-0.427897</td>\n",
       "      <td>0.179443</td>\n",
       "      <td>0.104701</td>\n",
       "      <td>0.896740</td>\n",
       "      <td>-0.040254</td>\n",
       "      <td>-0.573498</td>\n",
       "      <td>1.063475</td>\n",
       "      <td>-0.752278</td>\n",
       "      <td>0.626949</td>\n",
       "      <td>...</td>\n",
       "      <td>-0.886199</td>\n",
       "      <td>-0.798810</td>\n",
       "      <td>-0.720207</td>\n",
       "      <td>-0.187077</td>\n",
       "      <td>0.286082</td>\n",
       "      <td>-0.711084</td>\n",
       "      <td>0.230579</td>\n",
       "      <td>1.012024</td>\n",
       "      <td>-0.780722</td>\n",
       "      <td>-0.257637</td>\n",
       "    </tr>\n",
       "    <tr>\n",
       "      <th>QTR_ID</th>\n",
       "      <td>-1.427039</td>\n",
       "      <td>-0.596243</td>\n",
       "      <td>0.234553</td>\n",
       "      <td>0.234553</td>\n",
       "      <td>1.065350</td>\n",
       "      <td>1.065350</td>\n",
       "      <td>1.065350</td>\n",
       "      <td>1.065350</td>\n",
       "      <td>1.065350</td>\n",
       "      <td>-1.427039</td>\n",
       "      <td>...</td>\n",
       "      <td>0.234553</td>\n",
       "      <td>1.065350</td>\n",
       "      <td>1.065350</td>\n",
       "      <td>1.065350</td>\n",
       "      <td>1.065350</td>\n",
       "      <td>1.065350</td>\n",
       "      <td>-1.427039</td>\n",
       "      <td>-1.427039</td>\n",
       "      <td>-1.427039</td>\n",
       "      <td>-0.596243</td>\n",
       "    </tr>\n",
       "  </tbody>\n",
       "</table>\n",
       "<p>5 rows × 2823 columns</p>\n",
       "</div>"
      ],
      "text/plain": [
       "                     0         1         2         3         4         5     \\\n",
       "QUANTITYORDERED -0.522891 -0.112201  0.606505  1.017195  1.427884  0.093143   \n",
       "PRICEEACH        0.596978 -0.114450  0.549384 -0.019759  0.810158  0.644571   \n",
       "ORDERLINENUMBER -1.057059 -0.347015 -1.057059 -0.110334  1.783116 -1.293740   \n",
       "SALES           -0.370825 -0.427897  0.179443  0.104701  0.896740 -0.040254   \n",
       "QTR_ID          -1.427039 -0.596243  0.234553  0.234553  1.065350  1.065350   \n",
       "\n",
       "                     6         7         8         9     ...      2813  \\\n",
       "QUANTITYORDERED -0.625563  1.325212 -1.344270  0.606505  ... -0.317546   \n",
       "PRICEEACH        0.122527  0.810158  0.739263  0.810158  ... -1.169942   \n",
       "ORDERLINENUMBER  0.599710 -1.293740 -1.057059  1.783116  ... -1.293740   \n",
       "SALES           -0.573498  1.063475 -0.752278  0.626949  ... -0.886199   \n",
       "QTR_ID           1.065350  1.065350  1.065350 -1.427039  ...  0.234553   \n",
       "\n",
       "                     2814      2815      2816      2817      2818      2819  \\\n",
       "QUANTITYORDERED -0.009529  0.503833  0.195816  0.709178 -1.549615 -0.625563   \n",
       "PRICEEACH       -1.197209 -1.386592  0.152769  0.669360  0.810158  0.810158   \n",
       "ORDERLINENUMBER -0.110334 -0.347015 -0.583696 -0.347015  2.019797 -1.293740   \n",
       "SALES           -0.798810 -0.720207 -0.187077  0.286082 -0.711084  0.230579   \n",
       "QTR_ID           1.065350  1.065350  1.065350  1.065350  1.065350 -1.427039   \n",
       "\n",
       "                     2820      2821      2822  \n",
       "QUANTITYORDERED  0.811850 -0.112201  1.222540  \n",
       "PRICEEACH        0.810158 -1.061864 -0.899252  \n",
       "ORDERLINENUMBER -0.583696 -1.293740  0.599710  \n",
       "SALES            1.012024 -0.780722 -0.257637  \n",
       "QTR_ID          -1.427039 -1.427039 -0.596243  \n",
       "\n",
       "[5 rows x 2823 columns]"
      ]
     },
     "execution_count": 114,
     "metadata": {},
     "output_type": "execute_result"
    }
   ],
   "source": [
    "df_sales_std.T.head()"
   ]
  },
  {
   "cell_type": "code",
   "execution_count": 115,
   "id": "ba6e5ae5",
   "metadata": {
    "ExecuteTime": {
     "end_time": "2022-12-04T12:20:47.864459Z",
     "start_time": "2022-12-04T12:20:47.821052Z"
    }
   },
   "outputs": [
    {
     "data": {
      "text/plain": [
       "array([[ 1.00035436,  0.005566  , -0.01840317, ..., -0.00344824,\n",
       "        -0.00667482,  0.0323631 ],\n",
       "       [ 0.005566  ,  1.00035436, -0.02097199, ...,  0.02017429,\n",
       "        -0.01310552,  0.00610928],\n",
       "       [-0.01840317, -0.02097199,  1.00035436, ...,  0.04631425,\n",
       "         0.03654594, -0.02155582],\n",
       "       [ 0.55162159,  0.65807404, -0.05842108, ...,  0.01392767,\n",
       "        -0.0287562 ,  0.02406903],\n",
       "       [-0.03533598,  0.00871535,  0.04072996, ..., -0.05437441,\n",
       "         0.05306089,  0.05255242]])"
      ]
     },
     "execution_count": 115,
     "metadata": {},
     "output_type": "execute_result"
    }
   ],
   "source": [
    "# generate the covariance matrix using 'cov' function\n",
    "# pass the transpose of the standardized data to calculate the covariance between the variables (columns)\n",
    "# by default, the 'cov()' returns the covariance between the observations (rows)\n",
    "covariance_mat = np.cov(df_sales_std.T)\n",
    "\n",
    "# print the first five elements of the matrix\n",
    "covariance_mat[0:5]"
   ]
  },
  {
   "cell_type": "code",
   "execution_count": 116,
   "id": "d8c88721",
   "metadata": {
    "ExecuteTime": {
     "end_time": "2022-12-04T12:20:48.532964Z",
     "start_time": "2022-12-04T12:20:48.497026Z"
    }
   },
   "outputs": [
    {
     "data": {
      "text/plain": [
       "(201, 201)"
      ]
     },
     "execution_count": 116,
     "metadata": {},
     "output_type": "execute_result"
    }
   ],
   "source": [
    "covariance_mat.shape"
   ]
  },
  {
   "cell_type": "code",
   "execution_count": 117,
   "id": "42078e5a",
   "metadata": {
    "ExecuteTime": {
     "end_time": "2022-12-04T12:20:49.529496Z",
     "start_time": "2022-12-04T12:20:49.476093Z"
    }
   },
   "outputs": [
    {
     "name": "stdout",
     "output_type": "stream",
     "text": [
      "Eigen Vectors \n",
      "%s [[ 0.00000000e+00 -0.00000000e+00  0.00000000e+00 ... -9.82942981e-02\n",
      "   1.54138116e-01 -2.12272132e-02]\n",
      " [ 1.88008031e-16  6.51472790e-17  3.47146553e-16 ... -8.92652228e-02\n",
      "   3.07638807e-01 -3.15792201e-02]\n",
      " [ 1.18733795e-16  5.63618629e-17 -7.38205616e-17 ...  3.31587072e-02\n",
      "  -3.50299366e-02  1.33667762e-02]\n",
      " ...\n",
      " [-6.97365770e-02 -4.19695023e-02  6.29360409e-03 ... -1.12493170e-01\n",
      "   9.88784998e-02 -1.27124563e-02]\n",
      " [-2.42788549e-02 -2.72738622e-02  8.80139928e-02 ...  1.00071175e-01\n",
      "  -8.62390059e-02 -3.21651013e-02]\n",
      " [ 8.39826105e-02  5.44928944e-02  1.18000153e-01 ...  1.48520920e-01\n",
      "   1.49077094e-01 -1.90019995e-01]]\n",
      "\n",
      " Eigen Values \n",
      "%s [-5.59156355e-15 -3.10779000e-15 -2.75710176e-15 -2.73806605e-15\n",
      " -2.34908970e-15 -2.29291630e-15 -2.10682364e-15 -2.08960894e-15\n",
      " -1.96938310e-15 -1.92721180e-15 -1.65709051e-15 -1.63564245e-15\n",
      " -1.52755109e-15 -1.47709716e-15 -1.46372852e-15 -1.46227243e-15\n",
      " -1.34487985e-15 -1.31145319e-15 -1.31006723e-15 -1.22965164e-15\n",
      " -1.15132618e-15 -1.10935615e-15 -1.04947151e-15 -1.04737119e-15\n",
      " -1.03181351e-15 -1.00397980e-15 -8.99464249e-16 -8.83980721e-16\n",
      " -8.61427802e-16 -8.07161907e-16 -7.73950928e-16 -7.68275695e-16\n",
      " -7.65897311e-16 -7.29693814e-16 -7.22414685e-16 -6.60733355e-16\n",
      " -6.47641905e-16 -5.40027217e-16 -5.30780516e-16 -5.20002291e-16\n",
      " -4.88729720e-16 -4.40393571e-16 -4.21980340e-16 -3.96694422e-16\n",
      " -3.62460235e-16 -2.80832069e-16 -2.67919456e-16 -2.40871228e-16\n",
      " -2.19071029e-16 -1.81591881e-16 -1.67858231e-16 -9.73871890e-17\n",
      " -7.70319594e-17 -6.59603722e-17  4.03730165e-19  2.78716356e-18\n",
      "  2.01283883e-17  2.14245662e-17  8.80850163e-17  9.19542902e-17\n",
      "  1.06980416e-16  1.16196805e-16  1.18557105e-16  1.60318016e-16\n",
      "  1.91328836e-16  1.95806903e-16  2.36106871e-16  2.87467394e-16\n",
      "  3.00097271e-16  3.34406535e-16  3.55050563e-16  4.39315367e-16\n",
      "  4.49552400e-16  5.17946540e-16  5.37854034e-16  6.18593379e-16\n",
      "  6.24179412e-16  6.46413613e-16  6.49885820e-16  6.91090925e-16\n",
      "  7.05085598e-16  7.41591476e-16  7.51330577e-16  8.51302418e-16\n",
      "  8.70813583e-16  9.69004565e-16  9.88147348e-16  1.00684023e-15\n",
      "  1.22763831e-15  1.31716612e-15  1.40401232e-15  1.44035562e-15\n",
      "  1.76297296e-15  1.80615878e-15  2.78068653e-15  1.37686104e-02\n",
      "  1.00284787e-01  1.96175022e-01  2.92936935e-01  4.72381213e-01\n",
      "  6.31077354e-01  6.74488088e-01  7.87065778e-01  8.01622911e-01\n",
      "  8.11006117e-01  8.54604703e-01  9.00273562e-01  9.16592405e-01\n",
      "  9.95643283e-01  1.00392852e+00  1.00528555e+00  1.00653205e+00\n",
      "  1.00702302e+00  1.00766924e+00  1.00970434e+00  1.01109093e+00\n",
      "  1.01165322e+00  1.01666777e+00  1.02705004e+00  1.03744226e+00\n",
      "  1.06580718e+00  1.07840138e+00  1.11399082e+00  1.14294354e+00\n",
      "  1.16449781e+00  1.19150731e+00  1.21890614e+00  1.33859944e+00\n",
      "  1.95416406e+00  2.01025029e+00  2.01081244e+00  2.01185638e+00\n",
      "  2.01322992e+00  2.01350566e+00  2.01408877e+00  2.01463065e+00\n",
      "  2.01521661e+00  2.01587091e+00  2.01688129e+00  2.01738911e+00\n",
      "  2.01762960e+00  2.01780782e+00  2.01829242e+00  2.01859242e+00\n",
      "  2.01904596e+00  2.01955033e+00  2.01970470e+00  2.02027769e+00\n",
      "  2.02054809e+00  2.02077097e+00  2.02097373e+00  2.02168573e+00\n",
      "  2.02185732e+00  2.02212361e+00  2.02242066e+00  2.02272214e+00\n",
      "  2.02289365e+00  2.02305407e+00  2.02431810e+00  2.02510892e+00\n",
      "  2.02613897e+00  2.02695633e+00  2.02832849e+00  2.02971423e+00\n",
      "  2.03033680e+00  2.03051669e+00  2.03192068e+00  2.03305496e+00\n",
      "  2.03323106e+00  2.03608832e+00  2.05148781e+00  2.05521196e+00\n",
      "  2.06495394e+00  2.07921526e+00  2.10994711e+00  2.13061468e+00\n",
      "  2.14602400e+00  2.17901506e+00  2.21689108e+00  2.26939779e+00\n",
      "  2.34672566e+00  2.69967437e+00  2.95140275e+00  3.02875190e+00\n",
      "  3.03975569e+00  3.04560668e+00  3.04668932e+00  3.04809838e+00\n",
      "  3.05298679e+00  3.05957734e+00  3.07594347e+00  3.08232850e+00\n",
      "  3.08933405e+00  3.10384175e+00  3.13590257e+00  3.15233569e+00\n",
      "  3.27309423e+00  3.40871800e+00  3.63197497e+00  3.64820425e+00\n",
      "  4.10733918e+00]\n"
     ]
    }
   ],
   "source": [
    "# use 'eig()' function to compute eigenvalues and eigenvectors of the covariance matrix\n",
    "eigenvalue, eigenvector = np.linalg.eigh(covariance_mat)\n",
    "print('Eigen Vectors \\n%s', eigenvector)\n",
    "print('\\n Eigen Values \\n%s', eigenvalue)"
   ]
  },
  {
   "cell_type": "code",
   "execution_count": 118,
   "id": "4c640c3e",
   "metadata": {
    "ExecuteTime": {
     "end_time": "2022-12-04T12:20:50.436326Z",
     "start_time": "2022-12-04T12:20:50.400227Z"
    }
   },
   "outputs": [
    {
     "name": "stdout",
     "output_type": "stream",
     "text": [
      "[-5.59156355e-15 -3.10779000e-15 -2.75710176e-15 -2.73806605e-15\n",
      " -2.34908970e-15 -2.29291630e-15 -2.10682364e-15 -2.08960894e-15\n",
      " -1.96938310e-15 -1.92721180e-15 -1.65709051e-15 -1.63564245e-15\n",
      " -1.52755109e-15 -1.47709716e-15 -1.46372852e-15 -1.46227243e-15\n",
      " -1.34487985e-15 -1.31145319e-15 -1.31006723e-15 -1.22965164e-15\n",
      " -1.15132618e-15 -1.10935615e-15 -1.04947151e-15 -1.04737119e-15\n",
      " -1.03181351e-15 -1.00397980e-15 -8.99464249e-16 -8.83980721e-16\n",
      " -8.61427802e-16 -8.07161907e-16 -7.73950928e-16 -7.68275695e-16\n",
      " -7.65897311e-16 -7.29693814e-16 -7.22414685e-16 -6.60733355e-16\n",
      " -6.47641905e-16 -5.40027217e-16 -5.30780516e-16 -5.20002291e-16\n",
      " -4.88729720e-16 -4.40393571e-16 -4.21980340e-16 -3.96694422e-16\n",
      " -3.62460235e-16 -2.80832069e-16 -2.67919456e-16 -2.40871228e-16\n",
      " -2.19071029e-16 -1.81591881e-16 -1.67858231e-16 -9.73871890e-17\n",
      " -7.70319594e-17 -6.59603722e-17  4.03730165e-19  2.78716356e-18\n",
      "  2.01283883e-17  2.14245662e-17  8.80850163e-17  9.19542902e-17\n",
      "  1.06980416e-16  1.16196805e-16  1.18557105e-16  1.60318016e-16\n",
      "  1.91328836e-16  1.95806903e-16  2.36106871e-16  2.87467394e-16\n",
      "  3.00097271e-16  3.34406535e-16  3.55050563e-16  4.39315367e-16\n",
      "  4.49552400e-16  5.17946540e-16  5.37854034e-16  6.18593379e-16\n",
      "  6.24179412e-16  6.46413613e-16  6.49885820e-16  6.91090925e-16\n",
      "  7.05085598e-16  7.41591476e-16  7.51330577e-16  8.51302418e-16\n",
      "  8.70813583e-16  9.69004565e-16  9.88147348e-16  1.00684023e-15\n",
      "  1.22763831e-15  1.31716612e-15  1.40401232e-15  1.44035562e-15\n",
      "  1.76297296e-15  1.80615878e-15  2.78068653e-15  1.37686104e-02\n",
      "  1.00284787e-01  1.96175022e-01  2.92936935e-01  4.72381213e-01\n",
      "  6.31077354e-01  6.74488088e-01  7.87065778e-01  8.01622911e-01\n",
      "  8.11006117e-01  8.54604703e-01  9.00273562e-01  9.16592405e-01\n",
      "  9.95643283e-01  1.00392852e+00  1.00528555e+00  1.00653205e+00\n",
      "  1.00702302e+00  1.00766924e+00  1.00970434e+00  1.01109093e+00\n",
      "  1.01165322e+00  1.01666777e+00  1.02705004e+00  1.03744226e+00\n",
      "  1.06580718e+00  1.07840138e+00  1.11399082e+00  1.14294354e+00\n",
      "  1.16449781e+00  1.19150731e+00  1.21890614e+00  1.33859944e+00\n",
      "  1.95416406e+00  2.01025029e+00  2.01081244e+00  2.01185638e+00\n",
      "  2.01322992e+00  2.01350566e+00  2.01408877e+00  2.01463065e+00\n",
      "  2.01521661e+00  2.01587091e+00  2.01688129e+00  2.01738911e+00\n",
      "  2.01762960e+00  2.01780782e+00  2.01829242e+00  2.01859242e+00\n",
      "  2.01904596e+00  2.01955033e+00  2.01970470e+00  2.02027769e+00\n",
      "  2.02054809e+00  2.02077097e+00  2.02097373e+00  2.02168573e+00\n",
      "  2.02185732e+00  2.02212361e+00  2.02242066e+00  2.02272214e+00\n",
      "  2.02289365e+00  2.02305407e+00  2.02431810e+00  2.02510892e+00\n",
      "  2.02613897e+00  2.02695633e+00  2.02832849e+00  2.02971423e+00\n",
      "  2.03033680e+00  2.03051669e+00  2.03192068e+00  2.03305496e+00\n",
      "  2.03323106e+00  2.03608832e+00  2.05148781e+00  2.05521196e+00\n",
      "  2.06495394e+00  2.07921526e+00  2.10994711e+00  2.13061468e+00\n",
      "  2.14602400e+00  2.17901506e+00  2.21689108e+00  2.26939779e+00\n",
      "  2.34672566e+00  2.69967437e+00  2.95140275e+00  3.02875190e+00\n",
      "  3.03975569e+00  3.04560668e+00  3.04668932e+00  3.04809838e+00\n",
      "  3.05298679e+00  3.05957734e+00  3.07594347e+00  3.08232850e+00\n",
      "  3.08933405e+00  3.10384175e+00  3.13590257e+00  3.15233569e+00\n",
      "  3.27309423e+00  3.40871800e+00  3.63197497e+00  3.64820425e+00\n",
      "  4.10733918e+00]\n"
     ]
    }
   ],
   "source": [
    "# Computes the eigenvalues of the covariance matrix and it is stored in the array 'eigenvalue'\n",
    "# convert the array into the list\n",
    "list_eigenvalue = np.sort(eigenvalue.tolist())\n",
    "\n",
    "print(list_eigenvalue)"
   ]
  },
  {
   "cell_type": "code",
   "execution_count": 119,
   "id": "ffd64c13",
   "metadata": {
    "ExecuteTime": {
     "end_time": "2022-12-04T12:20:51.359218Z",
     "start_time": "2022-12-04T12:20:51.289662Z"
    }
   },
   "outputs": [
    {
     "data": {
      "text/plain": [
       "array([[ 0.00000000e+00, -0.00000000e+00,  0.00000000e+00,\n",
       "        -0.00000000e+00],\n",
       "       [ 1.88008031e-16,  6.51472790e-17,  3.47146553e-16,\n",
       "         2.64261955e-16],\n",
       "       [ 1.18733795e-16,  5.63618629e-17, -7.38205616e-17,\n",
       "        -4.99871045e-17],\n",
       "       [ 2.34904032e-16, -4.58792943e-17, -9.89018352e-17,\n",
       "         2.36695224e-17],\n",
       "       [ 8.87143861e-16, -5.58439856e-15,  2.94555217e-15,\n",
       "        -4.62978203e-15],\n",
       "       [-1.03870359e-15,  5.70125030e-15, -3.37612891e-15,\n",
       "         4.57785114e-15],\n",
       "       [ 1.89337932e-16,  1.23758448e-16, -2.67282730e-16,\n",
       "         7.86579286e-17],\n",
       "       [-2.87614075e-16, -7.89724335e-17, -3.46566610e-16,\n",
       "        -1.87789457e-16],\n",
       "       [-2.31730482e-02,  1.07818161e-02, -1.76095371e-01,\n",
       "         6.11343094e-02],\n",
       "       [ 2.68014777e-16, -1.31838984e-16, -1.31838984e-16,\n",
       "         2.11636264e-16],\n",
       "       [-5.55381333e-02,  3.09552436e-02, -1.64770805e-02,\n",
       "         2.81918661e-02],\n",
       "       [-3.76510482e-02,  2.09855337e-02, -1.11703313e-02,\n",
       "         1.91121531e-02],\n",
       "       [-3.63824027e-02,  2.02784298e-02, -1.07939490e-02,\n",
       "         1.84681725e-02],\n",
       "       [-3.22673284e-02,  1.79848143e-02, -9.57308673e-03,\n",
       "         1.63793082e-02],\n",
       "       [-1.90627119e-02,  1.06249680e-02, -5.65553467e-03,\n",
       "         9.67647613e-03],\n",
       "       [-3.61197591e-02,  2.01320403e-02, -1.07160277e-02,\n",
       "         1.83348512e-02],\n",
       "       [-4.80804229e-02,  2.67985457e-02, -1.42645233e-02,\n",
       "         2.44062370e-02],\n",
       "       [ 4.06714030e-02,  2.21571015e-02, -4.38062552e-03,\n",
       "         1.10651232e-02],\n",
       "       [-2.11206976e-02,  1.40364597e-02, -1.49332206e-02,\n",
       "         7.91803112e-02],\n",
       "       [-5.95141560e-02, -6.09539981e-02, -4.40479682e-02,\n",
       "         1.82419017e-03],\n",
       "       [ 1.41360055e-02,  2.28333889e-02,  1.70571308e-01,\n",
       "        -2.95017523e-02],\n",
       "       [ 2.13450004e-02, -6.25520894e-03, -1.87776139e-02,\n",
       "        -1.00961357e-01],\n",
       "       [ 5.64641004e-03, -2.39848555e-02,  1.63539623e-01,\n",
       "        -3.28580625e-02],\n",
       "       [-2.31960618e-03,  5.96338017e-02,  2.47043863e-01,\n",
       "        -5.35967102e-02],\n",
       "       [-9.61905241e-03, -4.18059499e-03,  1.26511686e-01,\n",
       "        -1.90724151e-02],\n",
       "       [-3.36775070e-03,  1.20971757e-02, -4.70666515e-03,\n",
       "         2.67787533e-02],\n",
       "       [ 9.43824149e-02, -3.58911641e-01,  4.77371744e-02,\n",
       "         8.06269733e-02],\n",
       "       [ 1.18417344e-02,  5.59024964e-03,  7.97948067e-03,\n",
       "         1.58219458e-02],\n",
       "       [ 3.64730048e-02,  3.11866075e-02,  4.82051608e-02,\n",
       "         2.51772519e-03],\n",
       "       [ 2.35996946e-02,  2.79071858e-02, -4.22330633e-02,\n",
       "         5.82457227e-03],\n",
       "       [ 4.73418533e-02,  3.07022119e-02, -1.93314182e-02,\n",
       "         3.21041703e-02],\n",
       "       [ 7.64833990e-03, -1.07371652e-01,  5.04733932e-03,\n",
       "         5.38567169e-03],\n",
       "       [-9.68789288e-04,  1.13059117e-02, -1.89315541e-02,\n",
       "        -3.11793372e-03],\n",
       "       [ 5.31346129e-02,  2.37634087e-02, -7.41076760e-03,\n",
       "         2.11896640e-01],\n",
       "       [-1.35291805e-02, -2.76142135e-02,  6.61203418e-02,\n",
       "         2.17503219e-02],\n",
       "       [ 1.60533416e-02,  7.43212137e-02, -2.64503287e-02,\n",
       "        -5.15341350e-03],\n",
       "       [-4.45542062e-04, -1.04730335e-02,  7.87769437e-03,\n",
       "         1.81072630e-04],\n",
       "       [ 7.02894107e-02,  4.16991884e-02,  7.70919558e-02,\n",
       "         5.27221759e-02],\n",
       "       [ 6.17225017e-03,  3.16204697e-02, -2.55655102e-02,\n",
       "         1.22100729e-03],\n",
       "       [ 2.04521135e-02,  9.65504005e-03,  1.37815322e-02,\n",
       "         2.73264219e-02],\n",
       "       [-5.54668497e-03,  4.96388655e-03, -1.61866817e-02,\n",
       "        -7.27528839e-03],\n",
       "       [-1.51481431e-03,  1.76781030e-02, -2.96016786e-02,\n",
       "        -4.87525067e-03],\n",
       "       [-5.68541892e-03,  1.40681438e-02,  4.60605813e-02,\n",
       "        -1.77680051e-02],\n",
       "       [-1.38674044e-02, -4.64204910e-03,  2.41705394e-02,\n",
       "         1.02175519e-01],\n",
       "       [-1.38430445e-02, -7.01208599e-03, -6.14442244e-02,\n",
       "        -3.16677617e-03],\n",
       "       [ 9.71058577e-03, -3.74419832e-03,  2.50997557e-02,\n",
       "         1.63100353e-02],\n",
       "       [ 3.37866523e-02,  1.29614083e-02,  1.87962537e-02,\n",
       "         2.41954785e-02],\n",
       "       [ 2.28088198e-02, -2.33345163e-02, -3.39504955e-02,\n",
       "        -7.59841923e-03],\n",
       "       [ 5.72847309e-03,  2.92289613e-02,  1.00627379e-01,\n",
       "        -1.87024880e-03],\n",
       "       [ 2.42562897e-03, -1.25222087e-02,  2.14629208e-03,\n",
       "         2.20276627e-02],\n",
       "       [-4.13060232e-03,  4.82047290e-02, -8.07179872e-02,\n",
       "        -1.32938549e-02],\n",
       "       [-1.09643588e-02,  8.27869529e-04,  1.54018565e-02,\n",
       "        -8.26435148e-03],\n",
       "       [-1.38194456e-03, -1.26958547e-02, -2.36536912e-02,\n",
       "        -7.35067277e-03],\n",
       "       [ 1.91932183e-02, -2.69445080e-01,  1.26661062e-02,\n",
       "         1.35151385e-02],\n",
       "       [ 4.05485552e-02,  1.55554441e-02,  2.25580482e-02,\n",
       "         2.90378487e-02],\n",
       "       [-2.59981527e-04,  2.93406648e-02,  5.03323313e-02,\n",
       "         1.28178058e-02],\n",
       "       [ 3.11317023e-02, -1.06817753e-02, -7.12793025e-02,\n",
       "        -2.37117711e-02],\n",
       "       [ 6.76039467e-03,  4.01446355e-03,  4.50912260e-03,\n",
       "         6.05426734e-03],\n",
       "       [-2.11488847e-03,  2.05094116e-02,  8.78932521e-02,\n",
       "         8.59230025e-03],\n",
       "       [-5.88156163e-03, -1.99312755e-02, -1.24500734e-02,\n",
       "        -2.36467129e-02],\n",
       "       [ 8.71733134e-02, -3.31497313e-01,  4.40909217e-02,\n",
       "         7.44685376e-02],\n",
       "       [ 5.82517049e-02, -1.70708165e-02, -5.12451629e-02,\n",
       "        -2.75529213e-01],\n",
       "       [-6.93766671e-04, -1.63078690e-02,  1.22665900e-02,\n",
       "         2.81953527e-04],\n",
       "       [ 8.13330702e-02, -3.09288395e-01,  4.11370165e-02,\n",
       "         6.94794606e-02],\n",
       "       [ 9.12106807e-03,  2.60871342e-02,  1.18060177e-03,\n",
       "         7.55465345e-02],\n",
       "       [ 8.30087713e-02,  3.71240375e-02, -1.15773632e-02,\n",
       "         3.31032424e-01],\n",
       "       [ 1.47252465e-02,  2.64882230e-02,  2.15348637e-03,\n",
       "        -1.90343972e-02],\n",
       "       [-3.15607293e-04, -7.41875127e-03,  5.58029871e-03,\n",
       "         1.28265875e-04],\n",
       "       [-2.72016081e-02, -1.54574894e-02, -7.13779249e-02,\n",
       "         1.68500667e-02],\n",
       "       [ 3.02079161e-03,  2.72505478e-02,  2.95535768e-02,\n",
       "         2.28138911e-02],\n",
       "       [ 1.25475838e-02,  1.97039371e-02, -8.75158038e-03,\n",
       "         2.79458082e-02],\n",
       "       [-1.27007901e-02,  9.58979665e-04,  1.78410567e-02,\n",
       "        -9.57318119e-03],\n",
       "       [ 2.00829312e-02,  2.39318183e-02,  5.69511035e-05,\n",
       "        -1.05859808e-02],\n",
       "       [-3.98388434e-03,  3.56529170e-03, -1.16260196e-02,\n",
       "        -5.22544685e-03],\n",
       "       [ 1.67944067e-02,  7.77520796e-02, -2.76713466e-02,\n",
       "        -5.39130885e-03],\n",
       "       [-6.86774682e-04, -1.61435133e-02,  1.21429636e-02,\n",
       "         2.79111914e-04],\n",
       "       [ 1.65308360e-02,  2.35260898e-02,  2.02191662e-02,\n",
       "        -1.45959572e-02],\n",
       "       [ 3.51789571e-05,  7.51068288e-03,  1.22908686e-02,\n",
       "        -2.06997634e-03],\n",
       "       [ 1.61947894e-02,  7.64524119e-03,  1.09127603e-02,\n",
       "         2.16381377e-02],\n",
       "       [ 2.97704308e-02,  1.75939911e-02, -6.43830021e-02,\n",
       "         3.17251431e-02],\n",
       "       [ 1.01891050e-02,  1.59024453e-02,  4.91428759e-03,\n",
       "         1.45519040e-02],\n",
       "       [ 5.27033325e-02,  1.64720725e-02, -1.03846474e-02,\n",
       "         2.30182333e-02],\n",
       "       [ 8.36048711e-03,  1.88144347e-02,  4.39502287e-02,\n",
       "        -8.34338354e-03],\n",
       "       [ 3.34703120e-02,  1.31883460e-02,  2.48461285e-02,\n",
       "         2.10981978e-02],\n",
       "       [ 1.51558758e-02, -1.41586158e-02,  1.25764953e-02,\n",
       "         1.45822374e-02],\n",
       "       [-9.14105269e-03, -3.08890734e-02,  3.99692346e-02,\n",
       "        -6.69389024e-03],\n",
       "       [ 8.11272409e-03, -1.11967950e-02, -2.47321322e-02,\n",
       "         2.11027858e-02],\n",
       "       [-2.72080549e-02,  1.06009853e-02, -6.93080747e-02,\n",
       "        -1.04514215e-03],\n",
       "       [-3.32600383e-03, -2.37750053e-02,  6.26689204e-02,\n",
       "         6.20057111e-02],\n",
       "       [ 3.40490631e-01,  1.03134050e-01,  6.08157797e-02,\n",
       "         3.23598033e-02],\n",
       "       [ 4.74489972e-03, -2.62529876e-02, -2.64604698e-02,\n",
       "        -8.74192659e-03],\n",
       "       [-3.93328580e-02, -5.43053170e-02, -5.35301834e-02,\n",
       "         1.48365658e-02],\n",
       "       [-4.53437581e-03, -1.00044136e-02,  2.35818308e-01,\n",
       "        -3.21271927e-02],\n",
       "       [ 3.34899636e-02, -3.42618385e-02, -4.98491753e-02,\n",
       "        -1.11566835e-02],\n",
       "       [ 2.44257851e-02,  3.74166580e-02, -1.58918919e-02,\n",
       "        -7.10193405e-03],\n",
       "       [-3.21200362e-02,  2.45129357e-04,  8.93920273e-03,\n",
       "         1.78485492e-02],\n",
       "       [-5.32184090e-03, -8.36980751e-03, -1.42854661e-03,\n",
       "         4.59652890e-03],\n",
       "       [-1.43950042e-02, -3.47999650e-02, -1.02941119e-02,\n",
       "         1.08232064e-02],\n",
       "       [ 2.56925728e-02,  2.54823486e-02, -6.39679832e-04,\n",
       "         1.81005765e-02],\n",
       "       [ 4.66263600e-03, -1.87093550e-02, -3.03082306e-03,\n",
       "         8.66205776e-02],\n",
       "       [ 6.70487821e-02,  4.77764525e-02, -1.60564994e-02,\n",
       "        -2.29953902e-02],\n",
       "       [ 6.52483517e-02,  4.02608429e-03,  4.82502437e-02,\n",
       "         1.97779216e-02],\n",
       "       [ 2.71267869e-03,  1.25135127e-02, -2.70106520e-02,\n",
       "        -1.12003081e-02],\n",
       "       [ 3.59673239e-02,  2.34940100e-02, -2.09833420e-02,\n",
       "        -7.49906057e-03],\n",
       "       [ 1.50831309e-01,  2.93632056e-02, -1.43849591e-02,\n",
       "        -3.00527394e-03],\n",
       "       [-4.97686687e-04, -1.16987593e-02,  8.79967110e-03,\n",
       "         2.02264713e-04],\n",
       "       [ 2.09720228e-01,  3.06320443e-02,  1.71245576e-02,\n",
       "        -8.67605232e-03],\n",
       "       [ 7.70872045e-03,  1.93280452e-02,  5.00280531e-02,\n",
       "        -2.35340667e-05],\n",
       "       [ 6.25843907e-03,  7.25413944e-03,  5.58737058e-02,\n",
       "        -1.70483659e-02],\n",
       "       [-3.41620831e-02,  8.60244039e-04, -4.75457567e-02,\n",
       "         2.46002380e-02],\n",
       "       [ 3.14852885e-03,  9.91338138e-03, -2.02093707e-02,\n",
       "        -8.14027680e-03],\n",
       "       [ 1.36183857e-02,  1.98181694e-02, -1.45639854e-02,\n",
       "        -1.88880195e-02],\n",
       "       [-5.06380925e-02, -4.18195986e-02,  1.17998443e-02,\n",
       "        -3.75510667e-02],\n",
       "       [ 1.49868660e-02,  7.58916589e-03,  3.55701263e-02,\n",
       "         1.80418219e-02],\n",
       "       [ 2.44894264e-01, -1.56011607e-02, -4.06376041e-02,\n",
       "        -2.68233536e-02],\n",
       "       [-3.72948783e-02, -1.28380314e-02, -2.34382370e-02,\n",
       "        -2.79427287e-02],\n",
       "       [-1.27148008e-02, -5.88128884e-03, -1.32022275e-02,\n",
       "        -2.80526253e-02],\n",
       "       [ 1.29421718e-02,  1.82418942e-02,  2.80501029e-02,\n",
       "         1.46952115e-02],\n",
       "       [ 4.22560119e-03,  3.05566014e-02,  2.98719957e-02,\n",
       "         1.44411391e-02],\n",
       "       [ 6.22298521e-02,  3.33767068e-02,  1.44743470e-03,\n",
       "         4.14683380e-03],\n",
       "       [ 6.45334916e-04, -1.53201723e-02, -4.68509644e-02,\n",
       "         5.33110129e-03],\n",
       "       [ 1.87815672e-02,  1.48271351e-02,  6.54734717e-03,\n",
       "         3.95481521e-03],\n",
       "       [-8.40636327e-02, -3.71333722e-02,  1.91153224e-02,\n",
       "        -3.82910507e-01],\n",
       "       [ 5.71005154e-02,  3.94810577e-02,  1.96611460e-02,\n",
       "        -5.68929119e-03],\n",
       "       [ 9.78541663e-03,  3.60708497e-02,  1.33499235e-01,\n",
       "        -4.84838683e-03],\n",
       "       [ 3.28285542e-02,  2.11163713e-02, -6.60577274e-02,\n",
       "         2.95858587e-02],\n",
       "       [-2.33957423e-03, -1.77612074e-02, -1.85111655e-02,\n",
       "        -2.25515740e-02],\n",
       "       [ 3.01047495e-02, -4.59548263e-03,  2.36483867e-02,\n",
       "         4.68206004e-02],\n",
       "       [ 3.25195300e-02,  2.19234599e-02, -2.48728937e-03,\n",
       "        -1.77579082e-02],\n",
       "       [-4.99527326e-02,  3.06384987e-02,  3.86701910e-02,\n",
       "         3.65913597e-02],\n",
       "       [-1.91801886e-03,  4.24927806e-02,  9.86865369e-02,\n",
       "         6.60432936e-03],\n",
       "       [-9.79164405e-03,  2.94988064e-01, -9.49572602e-03,\n",
       "        -7.64177211e-03],\n",
       "       [ 8.22903250e-03,  1.71544569e-02,  1.88423856e-02,\n",
       "         4.18510002e-03],\n",
       "       [-1.07178171e-02,  2.87950910e-02, -4.04937489e-02,\n",
       "         1.99407448e-02],\n",
       "       [ 1.03494986e-02, -4.31057415e-03, -7.55421301e-02,\n",
       "         4.19103686e-03],\n",
       "       [ 1.97076815e-02,  9.39282000e-03, -7.64599401e-03,\n",
       "         3.85802814e-02],\n",
       "       [ 5.17747009e-02,  6.02743132e-02,  5.82618779e-02,\n",
       "        -6.93191178e-03],\n",
       "       [ 5.12883232e-03,  4.77732892e-03,  1.48955640e-02,\n",
       "         5.23393418e-03],\n",
       "       [ 5.29099778e-03,  6.45251583e-03,  1.02335860e-02,\n",
       "         2.07330259e-02],\n",
       "       [ 6.75194826e-03,  7.55562148e-02,  4.78498557e-02,\n",
       "         2.85833487e-02],\n",
       "       [-6.05737629e-03, -2.23297968e-02,  1.14294760e-03,\n",
       "         2.45413399e-02],\n",
       "       [ 2.05618969e-01,  3.14738291e-02, -2.80784514e-03,\n",
       "         1.26042449e-02],\n",
       "       [-9.13877040e-03,  2.39679696e-02, -6.94469516e-03,\n",
       "         9.12040555e-02],\n",
       "       [ 5.97605757e-02, -2.66056237e-02,  4.38584659e-02,\n",
       "         2.51020563e-02],\n",
       "       [ 4.15517323e-03,  1.96685076e-03,  6.35777450e-02,\n",
       "         7.78285624e-03],\n",
       "       [ 1.38266590e-02,  1.73992245e-02, -9.81871278e-03,\n",
       "         6.41560389e-03],\n",
       "       [-1.88823709e-02, -2.59360217e-02,  4.24576564e-02,\n",
       "         4.44337312e-02],\n",
       "       [ 8.05209117e-03, -3.11774521e-02,  1.56134734e-01,\n",
       "         1.32310072e-02],\n",
       "       [ 3.31499772e-02,  9.52077102e-03, -4.04273053e-02,\n",
       "         1.11174948e-01],\n",
       "       [ 9.34301309e-03, -6.78564236e-03, -1.59528705e-02,\n",
       "         3.28449555e-02],\n",
       "       [ 4.01985635e-02,  1.41334858e-02,  2.48029177e-02,\n",
       "         5.63611743e-03],\n",
       "       [ 2.90493928e-02,  4.15454063e-02, -1.06081378e-02,\n",
       "         1.72068506e-02],\n",
       "       [-7.69281561e-02,  1.83728534e-02,  1.21635362e-01,\n",
       "         4.77496206e-01],\n",
       "       [ 1.34245474e-02, -1.05335529e-03, -7.17206808e-03,\n",
       "         1.06213205e-02],\n",
       "       [ 3.46299842e-02,  7.34717643e-03, -1.66201092e-02,\n",
       "         2.39776812e-02],\n",
       "       [ 4.16664622e-02,  4.33478543e-03, -5.30864968e-03,\n",
       "        -1.17834353e-02],\n",
       "       [ 2.49976982e-02,  3.98866263e-02,  1.43263689e-02,\n",
       "        -4.08701558e-03],\n",
       "       [-8.88496471e-03,  3.23304712e-03,  1.98746235e-01,\n",
       "        -7.47382716e-03],\n",
       "       [ 1.87259785e-04, -2.48738041e-02,  2.99525554e-02,\n",
       "         1.24981751e-01],\n",
       "       [ 3.27072512e-03, -1.29606222e-02,  1.62742437e-02,\n",
       "         3.65362002e-02],\n",
       "       [ 4.61096210e-02,  1.79829800e-02,  3.09371709e-03,\n",
       "         2.64546684e-02],\n",
       "       [-1.66998919e-01,  5.73692430e-01, -3.83961307e-03,\n",
       "         7.03247731e-02],\n",
       "       [ 9.93959589e-03, -6.44356146e-03,  3.18223746e-02,\n",
       "         1.92386554e-02],\n",
       "       [-7.85733019e-03, -9.98044229e-02,  4.39418870e-02,\n",
       "         1.71393481e-02],\n",
       "       [-2.61534990e-02, -3.06085627e-02,  3.44582114e-02,\n",
       "         2.90934333e-03],\n",
       "       [-4.59350862e-02, -1.29953817e-02,  3.08780967e-02,\n",
       "         1.32111569e-01],\n",
       "       [-3.63580415e-03, -7.84221247e-03, -1.60993471e-02,\n",
       "         3.52421712e-02],\n",
       "       [ 5.38797711e-03, -2.60744301e-02,  2.99619219e-02,\n",
       "         6.12353147e-03],\n",
       "       [ 2.48793347e-02,  2.59489659e-03,  2.67072576e-02,\n",
       "         2.04021520e-02],\n",
       "       [-1.11091620e-02, -1.84859314e-02,  6.18582320e-03,\n",
       "        -8.83532390e-03],\n",
       "       [ 1.00649883e-02, -9.46830040e-03,  1.14084520e-02,\n",
       "         2.97398052e-02],\n",
       "       [ 1.50900955e-02, -1.46089806e-02, -9.79357599e-02,\n",
       "        -6.05319007e-03],\n",
       "       [ 5.95173045e-02,  3.90652439e-03,  4.73406351e-02,\n",
       "        -3.59938943e-03],\n",
       "       [ 1.26342982e-02,  1.91484298e-02,  8.55573499e-02,\n",
       "        -2.15965383e-03],\n",
       "       [-1.36408307e-02, -1.90041036e-02, -6.12646397e-03,\n",
       "         2.27804544e-02],\n",
       "       [-1.15396173e-02, -2.71186698e-02,  8.53014231e-03,\n",
       "         8.18945671e-02],\n",
       "       [ 3.32966402e-02,  1.95921594e-02,  6.20594435e-02,\n",
       "        -1.87956678e-02],\n",
       "       [ 1.23821255e-02, -1.39011799e-02,  5.39993240e-02,\n",
       "         2.82291422e-02],\n",
       "       [ 2.83730395e-02,  4.39564088e-02, -9.55463758e-03,\n",
       "         3.33108815e-02],\n",
       "       [ 3.12326807e-02,  3.96430058e-02, -3.81229836e-02,\n",
       "         2.75125004e-03],\n",
       "       [-4.92534374e-03, -1.19687923e-02,  4.17812446e-02,\n",
       "         7.51551477e-02],\n",
       "       [-7.60525754e-04, -1.40490751e-02,  1.32342569e-02,\n",
       "        -2.04571574e-02],\n",
       "       [ 7.58331336e-02, -1.37827169e-02, -5.56939842e-01,\n",
       "         1.07962333e-01],\n",
       "       [ 7.73721476e-02,  2.06890139e-02,  1.40434042e-01,\n",
       "        -2.15786599e-03],\n",
       "       [-9.97398964e-02, -3.85918230e-02,  4.17919175e-02,\n",
       "        -1.74370807e-03],\n",
       "       [ 1.51615124e-02,  5.63491892e-03, -3.88262834e-03,\n",
       "        -7.62820117e-04],\n",
       "       [ 4.87391291e-02,  4.04642206e-02,  2.23677809e-01,\n",
       "         3.90846941e-02],\n",
       "       [-4.13680406e-02, -2.61115030e-02,  3.86684430e-02,\n",
       "        -2.01751803e-02],\n",
       "       [ 1.26714574e-01,  5.38961824e-02, -5.41931505e-02,\n",
       "        -3.16588036e-01],\n",
       "       [-8.93098512e-02, -6.23525415e-02,  7.93698078e-02,\n",
       "         1.62070492e-02],\n",
       "       [-4.55167447e-02, -1.09485118e-02, -3.65533722e-02,\n",
       "        -9.62148072e-03],\n",
       "       [ 1.12377658e-01,  1.18795451e-01,  2.05576242e-02,\n",
       "         8.84847410e-02],\n",
       "       [ 5.35457929e-03,  2.87951846e-02,  1.94976418e-01,\n",
       "        -2.49256949e-01],\n",
       "       [ 1.42093901e-02,  9.90335475e-03, -1.77828119e-02,\n",
       "         5.94000110e-03],\n",
       "       [ 3.94546720e-02, -3.86979911e-03, -1.03385941e-02,\n",
       "         1.13909434e-02],\n",
       "       [-1.75400738e-03, -2.22636774e-02, -1.14052974e-02,\n",
       "         8.54506506e-03],\n",
       "       [ 3.92700080e-02,  2.99765230e-02,  1.40817223e-01,\n",
       "         7.79215992e-02],\n",
       "       [-6.72466194e-01, -8.25017655e-02,  1.66424143e-02,\n",
       "         3.17437468e-02],\n",
       "       [-6.97365770e-02, -4.19695023e-02,  6.29360409e-03,\n",
       "        -5.05944652e-03],\n",
       "       [-2.42788549e-02, -2.72738622e-02,  8.80139928e-02,\n",
       "         3.13488392e-02],\n",
       "       [ 8.39826105e-02,  5.44928944e-02,  1.18000153e-01,\n",
       "         9.35095318e-02]])"
      ]
     },
     "execution_count": 119,
     "metadata": {},
     "output_type": "execute_result"
    }
   ],
   "source": [
    "eig_vec_4 = eigenvector[:,0:4]\n",
    "eig_vec_4"
   ]
  },
  {
   "cell_type": "code",
   "execution_count": 120,
   "id": "7d246032",
   "metadata": {
    "ExecuteTime": {
     "end_time": "2022-12-04T12:20:52.278178Z",
     "start_time": "2022-12-04T12:20:52.209820Z"
    }
   },
   "outputs": [
    {
     "data": {
      "text/html": [
       "<div>\n",
       "<style scoped>\n",
       "    .dataframe tbody tr th:only-of-type {\n",
       "        vertical-align: middle;\n",
       "    }\n",
       "\n",
       "    .dataframe tbody tr th {\n",
       "        vertical-align: top;\n",
       "    }\n",
       "\n",
       "    .dataframe thead th {\n",
       "        text-align: right;\n",
       "    }\n",
       "</style>\n",
       "<table border=\"1\" class=\"dataframe\">\n",
       "  <thead>\n",
       "    <tr style=\"text-align: right;\">\n",
       "      <th></th>\n",
       "      <th>PC1</th>\n",
       "      <th>PC2</th>\n",
       "      <th>PC3</th>\n",
       "      <th>PC4</th>\n",
       "    </tr>\n",
       "  </thead>\n",
       "  <tbody>\n",
       "    <tr>\n",
       "      <th>0</th>\n",
       "      <td>-6.804242e-16</td>\n",
       "      <td>7.312701e-16</td>\n",
       "      <td>1.789694e-15</td>\n",
       "      <td>1.280160e-15</td>\n",
       "    </tr>\n",
       "    <tr>\n",
       "      <th>1</th>\n",
       "      <td>-1.093065e-15</td>\n",
       "      <td>-3.414533e-16</td>\n",
       "      <td>6.937118e-16</td>\n",
       "      <td>3.398409e-15</td>\n",
       "    </tr>\n",
       "    <tr>\n",
       "      <th>2</th>\n",
       "      <td>5.722690e-16</td>\n",
       "      <td>1.823482e-15</td>\n",
       "      <td>1.748424e-15</td>\n",
       "      <td>-5.705420e-15</td>\n",
       "    </tr>\n",
       "    <tr>\n",
       "      <th>3</th>\n",
       "      <td>-1.457580e-15</td>\n",
       "      <td>6.757590e-16</td>\n",
       "      <td>3.741593e-16</td>\n",
       "      <td>-2.186408e-16</td>\n",
       "    </tr>\n",
       "    <tr>\n",
       "      <th>4</th>\n",
       "      <td>-1.679625e-15</td>\n",
       "      <td>5.369811e-16</td>\n",
       "      <td>-4.029968e-16</td>\n",
       "      <td>2.254484e-16</td>\n",
       "    </tr>\n",
       "  </tbody>\n",
       "</table>\n",
       "</div>"
      ],
      "text/plain": [
       "            PC1           PC2           PC3           PC4\n",
       "0 -6.804242e-16  7.312701e-16  1.789694e-15  1.280160e-15\n",
       "1 -1.093065e-15 -3.414533e-16  6.937118e-16  3.398409e-15\n",
       "2  5.722690e-16  1.823482e-15  1.748424e-15 -5.705420e-15\n",
       "3 -1.457580e-15  6.757590e-16  3.741593e-16 -2.186408e-16\n",
       "4 -1.679625e-15  5.369811e-16 -4.029968e-16  2.254484e-16"
      ]
     },
     "execution_count": 120,
     "metadata": {},
     "output_type": "execute_result"
    }
   ],
   "source": [
    "new_data = np.dot(df_sales_std, eig_vec_4)\n",
    "\n",
    "# create the dataframe using the 'DataFrame()'\n",
    "# pass the required column names to the parameter 'columns'\n",
    "df_pca = pd.DataFrame(new_data, columns = ['PC1', 'PC2', 'PC3', 'PC4'])\n",
    "\n",
    "# head() to display top five rows\n",
    "df_pca.head()"
   ]
  },
  {
   "cell_type": "code",
   "execution_count": 121,
   "id": "ea967cb5",
   "metadata": {
    "ExecuteTime": {
     "end_time": "2022-12-04T12:20:53.181040Z",
     "start_time": "2022-12-04T12:20:53.160517Z"
    }
   },
   "outputs": [
    {
     "data": {
      "text/plain": [
       "(2823, 4)"
      ]
     },
     "execution_count": 121,
     "metadata": {},
     "output_type": "execute_result"
    }
   ],
   "source": [
    "df_pca.shape"
   ]
  },
  {
   "cell_type": "markdown",
   "id": "98b48558",
   "metadata": {},
   "source": [
    "Interpretation: We have obtained the new dataset with only 4 dimensions. Thus we have reduced the number of variables from 203 to 4."
   ]
  },
  {
   "cell_type": "code",
   "execution_count": 122,
   "id": "79fc29aa",
   "metadata": {
    "ExecuteTime": {
     "end_time": "2022-12-04T12:20:55.710103Z",
     "start_time": "2022-12-04T12:20:54.989505Z"
    }
   },
   "outputs": [
    {
     "data": {
      "image/png": "[encoded data removed]",
      "text/plain": [
       "<Figure size 900x500 with 1 Axes>"
      ]
     },
     "metadata": {},
     "output_type": "display_data"
    }
   ],
   "source": [
    "# use the 'PCA()' from the sklearn library to reduce the number of features \n",
    "# specify required no of components to 'n_components'\n",
    "# pass the 'random_state' to produce the same results for each code run\n",
    "pca = PCA(n_components = 2, random_state = 10)  \n",
    "\n",
    "# fit the PCA and transform the standardized data\n",
    "pca_2 = pca.fit_transform(df_sales_std)\n",
    "# pca.fit_transform(df_sales_std)\n",
    "\n",
    "# create the dataframe using the 'DataFrame()'\n",
    "# pass the required column names to the parameter 'columns'\n",
    "df_pca_2 = pd.DataFrame(pca_2, columns = ['PC1', 'PC2'])\n",
    "\n",
    "# plot a scatterplot to visualize the dataset\n",
    "# pass the variables on x and y axes to the parameter 'x' and 'y' respectively\n",
    "# pass the dataframe to the parameter 'data'\n",
    "# pass the target variable to the parameter 'hue' to display the classes of the target variables with different colors\n",
    "sns.scatterplot(x = 'PC1', y = 'PC2', data = df_pca_2, hue =y)\n",
    "# sns.set(rc={'figure.figsize':(15.7,8.27)})\n",
    "\n",
    "# set the plot title and axes labels\n",
    "# set the text size using 'fontsize'\n",
    "plt.title('Transformed Data', fontsize = 15)\n",
    "plt.xlabel('First Principal Component', fontsize = 15)\n",
    "plt.ylabel('Second Principal Component', fontsize = 15)\n",
    "\n",
    "# display the plot\n",
    "plt.show()"
   ]
  },
  {
   "cell_type": "markdown",
   "id": "a532d28e",
   "metadata": {},
   "source": [
    "Interpretation: The above plot shows the maximum variation in the data along the first principal component."
   ]
  },
  {
   "cell_type": "code",
   "execution_count": 123,
   "id": "0178efcc",
   "metadata": {
    "ExecuteTime": {
     "end_time": "2022-12-04T12:20:58.347014Z",
     "start_time": "2022-12-04T12:20:58.319000Z"
    }
   },
   "outputs": [
    {
     "data": {
      "text/plain": [
       "((2823, 201), (2823, 2))"
      ]
     },
     "execution_count": 123,
     "metadata": {},
     "output_type": "execute_result"
    }
   ],
   "source": [
    "df_sales_std.shape, df_pca_2.shape"
   ]
  },
  {
   "cell_type": "code",
   "execution_count": 124,
   "id": "b3720420",
   "metadata": {
    "ExecuteTime": {
     "end_time": "2022-12-04T12:21:01.168564Z",
     "start_time": "2022-12-04T12:20:59.477846Z"
    }
   },
   "outputs": [
    {
     "data": {
      "text/plain": [
       "<matplotlib.legend.Legend at 0x2bff1b83a90>"
      ]
     },
     "execution_count": 124,
     "metadata": {},
     "output_type": "execute_result"
    },
    {
     "data": {
      "image/png": "[encoded data removed]",
      "text/plain": [
       "<Figure size 900x500 with 1 Axes>"
      ]
     },
     "metadata": {},
     "output_type": "display_data"
    }
   ],
   "source": [
    "pca = PCA(n_components=120)\n",
    "pca.fit(df_sales_std)\n",
    "\n",
    "exp_var = pca.explained_variance_ratio_ * 100\n",
    "cum_exp_var = np.cumsum(exp_var)\n",
    "\n",
    "plt.bar(range(1,121), exp_var, align='center',\n",
    "        label='Individual explained variance')\n",
    "\n",
    "plt.step(range(1,121), cum_exp_var, where='mid',\n",
    "         label='Cumulative explained variance', color='red')\n",
    "\n",
    "plt.ylabel('Explained variance percentage')\n",
    "plt.xlabel('Principal component index')\n",
    "#plt.xticks(ticks=[1, 2, 3, 4])\n",
    "plt.legend(loc='best')\n",
    "#plt.tight_layout()"
   ]
  },
  {
   "cell_type": "code",
   "execution_count": 125,
   "id": "8f20571b",
   "metadata": {
    "ExecuteTime": {
     "end_time": "2022-12-04T12:21:01.183837Z",
     "start_time": "2022-12-04T12:21:01.174507Z"
    }
   },
   "outputs": [
    {
     "name": "stdout",
     "output_type": "stream",
     "text": [
      "Variance Explained by all 201 principal components: 99.99999999999999\n"
     ]
    }
   ],
   "source": [
    "print(\"Variance Explained by all 201 principal components:\",\n",
    "      sum(pca.explained_variance_ratio_ * 100))"
   ]
  },
  {
   "cell_type": "code",
   "execution_count": 126,
   "id": "5808189f",
   "metadata": {
    "ExecuteTime": {
     "end_time": "2022-12-04T12:21:09.652757Z",
     "start_time": "2022-12-04T12:21:09.628225Z"
    }
   },
   "outputs": [
    {
     "name": "stdout",
     "output_type": "stream",
     "text": [
      "Variance Explained by the First principal components: 2.0427284694848438\n",
      "Variance Explained by the First 2 principal components: 3.857112518843583\n",
      "Variance Explained by the First 3 principal components: 5.663425155919864\n",
      "Variance Explained by the First 81 principal components: 90.7721627763747\n"
     ]
    }
   ],
   "source": [
    "print(\"Variance Explained by the First principal components:\",\n",
    "      np.cumsum(pca.explained_variance_ratio_ * 100)[0])\n",
    "print(\"Variance Explained by the First 2 principal components:\",\n",
    "      np.cumsum(pca.explained_variance_ratio_ * 100)[1])\n",
    "print(\"Variance Explained by the First 3 principal components:\",\n",
    "      np.cumsum(pca.explained_variance_ratio_ * 100)[2])\n",
    "print(\"Variance Explained by the First 81 principal components:\",\n",
    "      np.cumsum(pca.explained_variance_ratio_ * 100)[81])"
   ]
  },
  {
   "cell_type": "code",
   "execution_count": 127,
   "id": "bc033d0d",
   "metadata": {
    "ExecuteTime": {
     "end_time": "2022-12-04T12:21:10.934597Z",
     "start_time": "2022-12-04T12:21:10.492326Z"
    }
   },
   "outputs": [],
   "source": [
    "pca_90 = PCA(n_components=0.90 ,  random_state=42)\n",
    "pca_90.fit(df_sales_std)\n",
    "l_pca_90 = pca_90.transform(df_sales_std)"
   ]
  },
  {
   "cell_type": "code",
   "execution_count": 128,
   "id": "f54edcdd",
   "metadata": {
    "ExecuteTime": {
     "end_time": "2022-12-04T12:21:11.604254Z",
     "start_time": "2022-12-04T12:21:11.579779Z"
    }
   },
   "outputs": [
    {
     "data": {
      "text/plain": [
       "(2823, 81)"
      ]
     },
     "execution_count": 128,
     "metadata": {},
     "output_type": "execute_result"
    }
   ],
   "source": [
    "l_pca_90.shape"
   ]
  },
  {
   "cell_type": "markdown",
   "id": "bed42216",
   "metadata": {
    "ExecuteTime": {
     "end_time": "2022-12-04T08:52:29.538776Z",
     "start_time": "2022-12-04T08:52:29.525809Z"
    }
   },
   "source": [
    "Interpretation:From the above output we can say that we need approxiamately 81 components to explain 90% of explained variance.\n",
    "\n",
    "## LDA"
   ]
  },
  {
   "cell_type": "code",
   "execution_count": 129,
   "id": "cc7d9194",
   "metadata": {
    "ExecuteTime": {
     "end_time": "2022-12-04T12:21:13.470669Z",
     "start_time": "2022-12-04T12:21:13.445160Z"
    }
   },
   "outputs": [
    {
     "name": "stdout",
     "output_type": "stream",
     "text": [
      "['PC1', 'PC2', 'PC3', 'PC4', 'PC5', 'PC6', 'PC7', 'PC8', 'PC9', 'PC10', 'PC11', 'PC12', 'PC13', 'PC14', 'PC15', 'PC16', 'PC17', 'PC18', 'PC19', 'PC20', 'PC21', 'PC22', 'PC23', 'PC24', 'PC25', 'PC26', 'PC27', 'PC28', 'PC29', 'PC30', 'PC31', 'PC32', 'PC33', 'PC34', 'PC35', 'PC36', 'PC37', 'PC38', 'PC39', 'PC40', 'PC41', 'PC42', 'PC43', 'PC44', 'PC45', 'PC46', 'PC47', 'PC48', 'PC49', 'PC50', 'PC51', 'PC52', 'PC53', 'PC54', 'PC55', 'PC56', 'PC57', 'PC58', 'PC59', 'PC60', 'PC61', 'PC62', 'PC63', 'PC64', 'PC65', 'PC66', 'PC67', 'PC68', 'PC69', 'PC70', 'PC71', 'PC72', 'PC73', 'PC74', 'PC75', 'PC76', 'PC77', 'PC78', 'PC79', 'PC80', 'PC81']\n"
     ]
    }
   ],
   "source": [
    "cols = []\n",
    "for i in range(1,82):\n",
    "  z = 'PC'+str(i)\n",
    "  cols.append(z)\n",
    "print(cols)"
   ]
  },
  {
   "cell_type": "code",
   "execution_count": 130,
   "id": "37221458",
   "metadata": {
    "ExecuteTime": {
     "end_time": "2022-12-04T12:21:14.407501Z",
     "start_time": "2022-12-04T12:21:14.371116Z"
    }
   },
   "outputs": [
    {
     "data": {
      "text/plain": [
       "1    2617\n",
       "0     206\n",
       "Name: STATUS, dtype: int64"
      ]
     },
     "execution_count": 130,
     "metadata": {},
     "output_type": "execute_result"
    }
   ],
   "source": [
    "y.value_counts()"
   ]
  },
  {
   "cell_type": "code",
   "execution_count": 131,
   "id": "537fdbc5",
   "metadata": {
    "ExecuteTime": {
     "end_time": "2022-12-04T12:21:15.323685Z",
     "start_time": "2022-12-04T12:21:15.259865Z"
    }
   },
   "outputs": [
    {
     "data": {
      "text/html": [
       "<div>\n",
       "<style scoped>\n",
       "    .dataframe tbody tr th:only-of-type {\n",
       "        vertical-align: middle;\n",
       "    }\n",
       "\n",
       "    .dataframe tbody tr th {\n",
       "        vertical-align: top;\n",
       "    }\n",
       "\n",
       "    .dataframe thead th {\n",
       "        text-align: right;\n",
       "    }\n",
       "</style>\n",
       "<table border=\"1\" class=\"dataframe\">\n",
       "  <thead>\n",
       "    <tr style=\"text-align: right;\">\n",
       "      <th></th>\n",
       "      <th>PC1</th>\n",
       "      <th>PC2</th>\n",
       "      <th>PC3</th>\n",
       "      <th>PC4</th>\n",
       "      <th>PC5</th>\n",
       "      <th>PC6</th>\n",
       "      <th>PC7</th>\n",
       "      <th>PC8</th>\n",
       "      <th>PC9</th>\n",
       "      <th>PC10</th>\n",
       "      <th>...</th>\n",
       "      <th>PC73</th>\n",
       "      <th>PC74</th>\n",
       "      <th>PC75</th>\n",
       "      <th>PC76</th>\n",
       "      <th>PC77</th>\n",
       "      <th>PC78</th>\n",
       "      <th>PC79</th>\n",
       "      <th>PC80</th>\n",
       "      <th>PC81</th>\n",
       "      <th>label</th>\n",
       "    </tr>\n",
       "  </thead>\n",
       "  <tbody>\n",
       "    <tr>\n",
       "      <th>0</th>\n",
       "      <td>-0.836195</td>\n",
       "      <td>0.361842</td>\n",
       "      <td>-0.362421</td>\n",
       "      <td>2.459633</td>\n",
       "      <td>0.579356</td>\n",
       "      <td>-0.301285</td>\n",
       "      <td>-0.008573</td>\n",
       "      <td>0.210497</td>\n",
       "      <td>0.207899</td>\n",
       "      <td>0.027658</td>\n",
       "      <td>...</td>\n",
       "      <td>0.500266</td>\n",
       "      <td>-2.468115</td>\n",
       "      <td>0.269947</td>\n",
       "      <td>1.726857</td>\n",
       "      <td>0.564026</td>\n",
       "      <td>-2.190835</td>\n",
       "      <td>-0.226651</td>\n",
       "      <td>-1.655485</td>\n",
       "      <td>-0.228075</td>\n",
       "      <td>1</td>\n",
       "    </tr>\n",
       "    <tr>\n",
       "      <th>1</th>\n",
       "      <td>-0.172357</td>\n",
       "      <td>-1.538840</td>\n",
       "      <td>1.445937</td>\n",
       "      <td>0.867107</td>\n",
       "      <td>-3.268791</td>\n",
       "      <td>-3.167658</td>\n",
       "      <td>1.063851</td>\n",
       "      <td>0.897608</td>\n",
       "      <td>0.112468</td>\n",
       "      <td>0.191472</td>\n",
       "      <td>...</td>\n",
       "      <td>-0.974109</td>\n",
       "      <td>-0.011798</td>\n",
       "      <td>0.595816</td>\n",
       "      <td>0.778874</td>\n",
       "      <td>0.142431</td>\n",
       "      <td>-0.006628</td>\n",
       "      <td>-0.964464</td>\n",
       "      <td>-0.665500</td>\n",
       "      <td>0.757848</td>\n",
       "      <td>1</td>\n",
       "    </tr>\n",
       "    <tr>\n",
       "      <th>2</th>\n",
       "      <td>-0.506021</td>\n",
       "      <td>0.437002</td>\n",
       "      <td>1.345448</td>\n",
       "      <td>0.340939</td>\n",
       "      <td>-3.237021</td>\n",
       "      <td>-3.550258</td>\n",
       "      <td>1.247601</td>\n",
       "      <td>0.638229</td>\n",
       "      <td>0.143033</td>\n",
       "      <td>-0.082310</td>\n",
       "      <td>...</td>\n",
       "      <td>0.548083</td>\n",
       "      <td>0.983226</td>\n",
       "      <td>2.117069</td>\n",
       "      <td>1.038161</td>\n",
       "      <td>1.673371</td>\n",
       "      <td>1.853042</td>\n",
       "      <td>-2.593978</td>\n",
       "      <td>-1.490080</td>\n",
       "      <td>-2.999467</td>\n",
       "      <td>1</td>\n",
       "    </tr>\n",
       "    <tr>\n",
       "      <th>3</th>\n",
       "      <td>-0.980063</td>\n",
       "      <td>0.882171</td>\n",
       "      <td>-0.473764</td>\n",
       "      <td>2.447342</td>\n",
       "      <td>0.517715</td>\n",
       "      <td>-0.531241</td>\n",
       "      <td>-0.268490</td>\n",
       "      <td>0.236811</td>\n",
       "      <td>0.264314</td>\n",
       "      <td>-0.137174</td>\n",
       "      <td>...</td>\n",
       "      <td>-1.087265</td>\n",
       "      <td>1.414742</td>\n",
       "      <td>0.595430</td>\n",
       "      <td>0.464096</td>\n",
       "      <td>-0.283632</td>\n",
       "      <td>0.137867</td>\n",
       "      <td>-0.383932</td>\n",
       "      <td>0.245871</td>\n",
       "      <td>0.130315</td>\n",
       "      <td>1</td>\n",
       "    </tr>\n",
       "    <tr>\n",
       "      <th>4</th>\n",
       "      <td>-1.245282</td>\n",
       "      <td>1.763102</td>\n",
       "      <td>-1.543754</td>\n",
       "      <td>1.675224</td>\n",
       "      <td>0.667932</td>\n",
       "      <td>-0.627584</td>\n",
       "      <td>-0.127549</td>\n",
       "      <td>0.152431</td>\n",
       "      <td>0.210883</td>\n",
       "      <td>-0.219886</td>\n",
       "      <td>...</td>\n",
       "      <td>-0.470853</td>\n",
       "      <td>0.486571</td>\n",
       "      <td>-0.278240</td>\n",
       "      <td>0.995442</td>\n",
       "      <td>-2.270820</td>\n",
       "      <td>-0.711360</td>\n",
       "      <td>1.273139</td>\n",
       "      <td>0.127298</td>\n",
       "      <td>0.718363</td>\n",
       "      <td>1</td>\n",
       "    </tr>\n",
       "  </tbody>\n",
       "</table>\n",
       "<p>5 rows × 82 columns</p>\n",
       "</div>"
      ],
      "text/plain": [
       "        PC1       PC2       PC3       PC4       PC5       PC6       PC7  \\\n",
       "0 -0.836195  0.361842 -0.362421  2.459633  0.579356 -0.301285 -0.008573   \n",
       "1 -0.172357 -1.538840  1.445937  0.867107 -3.268791 -3.167658  1.063851   \n",
       "2 -0.506021  0.437002  1.345448  0.340939 -3.237021 -3.550258  1.247601   \n",
       "3 -0.980063  0.882171 -0.473764  2.447342  0.517715 -0.531241 -0.268490   \n",
       "4 -1.245282  1.763102 -1.543754  1.675224  0.667932 -0.627584 -0.127549   \n",
       "\n",
       "        PC8       PC9      PC10  ...      PC73      PC74      PC75      PC76  \\\n",
       "0  0.210497  0.207899  0.027658  ...  0.500266 -2.468115  0.269947  1.726857   \n",
       "1  0.897608  0.112468  0.191472  ... -0.974109 -0.011798  0.595816  0.778874   \n",
       "2  0.638229  0.143033 -0.082310  ...  0.548083  0.983226  2.117069  1.038161   \n",
       "3  0.236811  0.264314 -0.137174  ... -1.087265  1.414742  0.595430  0.464096   \n",
       "4  0.152431  0.210883 -0.219886  ... -0.470853  0.486571 -0.278240  0.995442   \n",
       "\n",
       "       PC77      PC78      PC79      PC80      PC81  label  \n",
       "0  0.564026 -2.190835 -0.226651 -1.655485 -0.228075      1  \n",
       "1  0.142431 -0.006628 -0.964464 -0.665500  0.757848      1  \n",
       "2  1.673371  1.853042 -2.593978 -1.490080 -2.999467      1  \n",
       "3 -0.283632  0.137867 -0.383932  0.245871  0.130315      1  \n",
       "4 -2.270820 -0.711360  1.273139  0.127298  0.718363      1  \n",
       "\n",
       "[5 rows x 82 columns]"
      ]
     },
     "execution_count": 131,
     "metadata": {},
     "output_type": "execute_result"
    }
   ],
   "source": [
    "n_df_sales = pd.DataFrame(l_pca_90,columns = cols)\n",
    "n_df_sales['label']=y\n",
    "n_df_sales.head()"
   ]
  },
  {
   "cell_type": "code",
   "execution_count": 132,
   "id": "9ed37cf3",
   "metadata": {
    "ExecuteTime": {
     "end_time": "2022-12-04T12:21:16.146523Z",
     "start_time": "2022-12-04T12:21:16.125933Z"
    }
   },
   "outputs": [
    {
     "name": "stdout",
     "output_type": "stream",
     "text": [
      "X_train_raw: (2258, 201)\n",
      "y_train: (2258,)\n",
      "X_test_raw: (565, 201)\n",
      "y_test: (565,)\n"
     ]
    }
   ],
   "source": [
    "X_train_raw, X_test_raw, y_train, y_test = train_test_split(df_sales_std, y, test_size = 0.2, random_state = 42)\n",
    "\n",
    "# check the shape of the train and test sets\n",
    "print('X_train_raw:', X_train_raw.shape)\n",
    "print('y_train:', y_train.shape)\n",
    "print('X_test_raw:', X_test_raw.shape)\n",
    "print('y_test:', y_test.shape)"
   ]
  },
  {
   "cell_type": "markdown",
   "id": "2902c0d1",
   "metadata": {},
   "source": [
    "Interpretation: we are spliting our original dataset into train and test sets. The train set consists of 80% of the total observations and the test set contains the remaining 20% of observations."
   ]
  },
  {
   "cell_type": "code",
   "execution_count": 133,
   "id": "42e73229",
   "metadata": {
    "ExecuteTime": {
     "end_time": "2022-12-04T12:21:17.881570Z",
     "start_time": "2022-12-04T12:21:17.825281Z"
    }
   },
   "outputs": [
    {
     "name": "stdout",
     "output_type": "stream",
     "text": [
      "Train set: (2258, 2)\n",
      "Test set: (565, 2)\n"
     ]
    }
   ],
   "source": [
    "# the 'PCA()' from the sklearn library to reduce the number of features \n",
    "# specify required no of components to 'n_components'\n",
    "# pass the 'random_state' to produce the same results for each code run\n",
    "pca = PCA(n_components = 2, random_state = 10)  \n",
    "\n",
    "# fit the PCA on train data and transform the train and test sets\n",
    "# the 'fit_transform()' fits the PCA on the data and performs dimension reduction\n",
    "X_train_pca = pca.fit_transform(X_train_raw)\n",
    "X_test_pca = pca.transform(X_test_raw)\n",
    "\n",
    "# check the dimension of the transformed data\n",
    "print('Train set:', X_train_pca.shape)\n",
    "print('Test set:', X_test_pca.shape)"
   ]
  },
  {
   "cell_type": "markdown",
   "id": "059dcf29",
   "metadata": {},
   "source": [
    "Interpretation: From the above output we can see that the number of features are reduced from 203 to 2."
   ]
  },
  {
   "cell_type": "code",
   "execution_count": 134,
   "id": "9f90a1a9",
   "metadata": {
    "ExecuteTime": {
     "end_time": "2022-12-04T12:21:19.876733Z",
     "start_time": "2022-12-04T12:21:19.851282Z"
    }
   },
   "outputs": [],
   "source": [
    "def randomforest_model_run(X_train, X_test, y_train, y_test):\n",
    "    \n",
    "    # create a random forest classifier object\n",
    "    # pass the random state to obtain the reproducible results\n",
    "    rf_clf = RandomForestClassifier(random_state=1)\n",
    "    \n",
    "    # fit the random forest model on the train data\n",
    "    rf_clf.fit(X_train, y_train)\n",
    "    \n",
    "    # predict the output values for test set\n",
    "    y_pred = rf_clf.predict(X_test)\n",
    "    \n",
    "    # calculate accuracy for test set\n",
    "    test_acc = accuracy_score(y_test, y_pred)\n",
    "    \n",
    "    # return the test accuracy \n",
    "    return print('Test Accuracy:', test_acc)"
   ]
  },
  {
   "cell_type": "markdown",
   "id": "d2bfdee6",
   "metadata": {},
   "source": [
    "Interpretation: The above code returns the accuracy of the random forest classifier for the test set given the train and test sets as input parameters."
   ]
  },
  {
   "cell_type": "code",
   "execution_count": 135,
   "id": "ffdc7df5",
   "metadata": {
    "ExecuteTime": {
     "end_time": "2022-12-04T12:21:21.814109Z",
     "start_time": "2022-12-04T12:21:21.787754Z"
    }
   },
   "outputs": [
    {
     "data": {
      "text/plain": [
       "((2258, 201), (2258, 2))"
      ]
     },
     "execution_count": 135,
     "metadata": {},
     "output_type": "execute_result"
    }
   ],
   "source": [
    "X_train_raw.shape, X_train_pca.shape"
   ]
  },
  {
   "cell_type": "code",
   "execution_count": 136,
   "id": "43c22f47",
   "metadata": {
    "ExecuteTime": {
     "end_time": "2022-12-04T12:21:23.667142Z",
     "start_time": "2022-12-04T12:21:22.897964Z"
    }
   },
   "outputs": [
    {
     "name": "stdout",
     "output_type": "stream",
     "text": [
      "Test Accuracy: 0.9787610619469026\n",
      "CPU times: total: 766 ms\n",
      "Wall time: 746 ms\n"
     ]
    }
   ],
   "source": [
    "%%time\n",
    "# '%%time' records the time required to execute the code\n",
    "\n",
    "# pass the train and test set of the untransformed data\n",
    "randomforest_model_run(X_train_raw, X_test_raw, y_train, y_test)"
   ]
  },
  {
   "cell_type": "markdown",
   "id": "8d16aa8c",
   "metadata": {},
   "source": [
    "Interpretation: From the above outputs we can see that the random forest classifier builds on the untransformed data is 97.69% accurate on the test set."
   ]
  },
  {
   "cell_type": "code",
   "execution_count": 137,
   "id": "cb64c6c1",
   "metadata": {
    "ExecuteTime": {
     "end_time": "2022-12-04T12:21:26.843400Z",
     "start_time": "2022-12-04T12:21:26.123812Z"
    }
   },
   "outputs": [
    {
     "name": "stdout",
     "output_type": "stream",
     "text": [
      "Test Accuracy: 0.904424778761062\n",
      "CPU times: total: 703 ms\n",
      "Wall time: 706 ms\n"
     ]
    }
   ],
   "source": [
    "%%time\n",
    "# '%%time' records the time required to execute the code\n",
    "\n",
    "# pass the train and test set of the PCA-transformed data\n",
    "\n",
    "randomforest_model_run(X_train_pca, X_test_pca, y_train, y_test)"
   ]
  },
  {
   "cell_type": "code",
   "execution_count": 138,
   "id": "47db7cad",
   "metadata": {
    "ExecuteTime": {
     "end_time": "2022-12-04T12:21:27.746411Z",
     "start_time": "2022-12-04T12:21:27.473164Z"
    }
   },
   "outputs": [],
   "source": [
    "lda = LDA(n_components = 1)\n",
    "\n",
    "# fit and transform the LDA on train data using the 'fit_transform()' \n",
    "X_train_lda = lda.fit_transform(X_train_raw, y_train)\n",
    "\n",
    "# transform the test data \n",
    "X_test_lda = lda.transform(X_test_raw)"
   ]
  },
  {
   "cell_type": "code",
   "execution_count": 139,
   "id": "e2406c07",
   "metadata": {
    "ExecuteTime": {
     "end_time": "2022-12-04T12:21:28.874915Z",
     "start_time": "2022-12-04T12:21:28.837012Z"
    }
   },
   "outputs": [
    {
     "data": {
      "text/plain": [
       "((2258, 1), (565, 1))"
      ]
     },
     "execution_count": 139,
     "metadata": {},
     "output_type": "execute_result"
    }
   ],
   "source": [
    "X_train_lda.shape, X_test_lda.shape"
   ]
  },
  {
   "cell_type": "code",
   "execution_count": 140,
   "id": "1322e003",
   "metadata": {
    "ExecuteTime": {
     "end_time": "2022-12-04T12:21:30.807529Z",
     "start_time": "2022-12-04T12:21:30.201895Z"
    }
   },
   "outputs": [
    {
     "name": "stdout",
     "output_type": "stream",
     "text": [
      "Test Accuracy: 0.9238938053097345\n",
      "CPU times: total: 578 ms\n",
      "Wall time: 581 ms\n"
     ]
    }
   ],
   "source": [
    "%%time\n",
    "randomforest_model_run(X_train_lda, X_test_lda, y_train, y_test)"
   ]
  },
  {
   "cell_type": "markdown",
   "id": "8cfc276c",
   "metadata": {},
   "source": [
    "Interpretation: The output shows that the random forest classifier builds on the dataset transformed using PCA (i.e. data with 2 principal components) is 92.38% accurate on the test set. But we can notice that the time required to execute the code is less for PCA transformed data."
   ]
  }
 ],
 "metadata": {
  "kernelspec": {
   "display_name": "Python 3 (ipykernel)",
   "language": "python",
   "name": "python3"
  },
  "language_info": {
   "codemirror_mode": {
    "name": "ipython",
    "version": 3
   },
   "file_extension": ".py",
   "mimetype": "text/x-python",
   "name": "python",
   "nbconvert_exporter": "python",
   "pygments_lexer": "ipython3",
   "version": "3.9.12"
  }
 },
 "nbformat": 4,
 "nbformat_minor": 5
}
